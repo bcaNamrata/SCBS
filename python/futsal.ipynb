{
  "nbformat": 4,
  "nbformat_minor": 0,
  "metadata": {
    "colab": {
      "provenance": [],
      "toc_visible": true
    },
    "kernelspec": {
      "name": "python3",
      "display_name": "Python 3"
    },
    "language_info": {
      "name": "python"
    }
  },
  "cells": [
    {
      "cell_type": "code",
      "execution_count": 2,
      "metadata": {
        "colab": {
          "base_uri": "https://localhost:8080/"
        },
        "id": "DJLD7hvReEPa",
        "outputId": "e472d4b7-48d5-448c-c310-5693428f7c8a"
      },
      "outputs": [
        {
          "output_type": "stream",
          "name": "stdout",
          "text": [
            "Mounted at /content/drive\n"
          ]
        }
      ],
      "source": [
        "# Mount Google Drive\n",
        "from google.colab import drive\n",
        "drive.mount('/content/drive')"
      ]
    },
    {
      "cell_type": "code",
      "source": [
        "import pandas as pd\n",
        "import numpy as np\n",
        "from sklearn.model_selection import train_test_split\n",
        "from sklearn.ensemble import RandomForestClassifier, RandomForestRegressor\n",
        "from sklearn.preprocessing import StandardScaler, OneHotEncoder\n",
        "from sklearn.compose import ColumnTransformer\n",
        "from sklearn.pipeline import Pipeline\n",
        "from sklearn.metrics import accuracy_score, mean_absolute_error\n",
        "import joblib"
      ],
      "metadata": {
        "id": "NgiGc55TeZaK"
      },
      "execution_count": 3,
      "outputs": []
    },
    {
      "cell_type": "code",
      "source": [
        "# Load your dataset\n",
        "file_path = '/content/drive/MyDrive/datasets/futsal/futsal_player_data.csv'\n",
        "df = pd.read_csv(file_path)"
      ],
      "metadata": {
        "id": "FAlvs-N4eZ4v"
      },
      "execution_count": 4,
      "outputs": []
    },
    {
      "cell_type": "code",
      "source": [
        "# Display first few rows to verify\n",
        "print(\"Dataset Preview:\")\n",
        "print(df.head())"
      ],
      "metadata": {
        "colab": {
          "base_uri": "https://localhost:8080/"
        },
        "id": "HRsNYysZer5u",
        "outputId": "ae353ec1-3671-4b04-eab1-e0b84927e27e"
      },
      "execution_count": 5,
      "outputs": [
        {
          "output_type": "stream",
          "name": "stdout",
          "text": [
            "Dataset Preview:\n",
            "   day_of_visit  age_group  gender  occupation  distance_from_futsal  \\\n",
            "0             3          1       1           3                     1   \n",
            "1             6          1       1           1                     1   \n",
            "2             5          1       1           1                     2   \n",
            "3             6          2       2           0                     0   \n",
            "4             6          2       0           2                     2   \n",
            "\n",
            "   player_level  \n",
            "0             2  \n",
            "1             1  \n",
            "2             2  \n",
            "3             1  \n",
            "4             0  \n"
          ]
        }
      ]
    },
    {
      "cell_type": "code",
      "source": [
        "# 1.1 Numeric Features Distribution\n",
        "numeric_cols = ['distance_from_futsal']\n",
        "print(\"Numeric Features Distribution:\")\n",
        "print(df[numeric_cols].describe())"
      ],
      "metadata": {
        "colab": {
          "base_uri": "https://localhost:8080/"
        },
        "id": "DxNmIiqbfQs0",
        "outputId": "b7bf55f6-b4ab-42c6-97a2-8a25b5b3bcf5"
      },
      "execution_count": 13,
      "outputs": [
        {
          "output_type": "stream",
          "name": "stdout",
          "text": [
            "Numeric Features Distribution:\n",
            "       distance_from_futsal\n",
            "count           2000.000000\n",
            "mean               1.008500\n",
            "std                0.816554\n",
            "min                0.000000\n",
            "25%                0.000000\n",
            "50%                1.000000\n",
            "75%                2.000000\n",
            "max                2.000000\n"
          ]
        }
      ]
    },
    {
      "cell_type": "code",
      "source": [
        "import matplotlib.pyplot as plt\n",
        "import seaborn as sns\n"
      ],
      "metadata": {
        "id": "a-2JbRnMfXuC"
      },
      "execution_count": 15,
      "outputs": []
    },
    {
      "cell_type": "code",
      "source": [
        "plt.figure(figsize=(12, 4))\n",
        "for i, col in enumerate(numeric_cols, 1):\n",
        "    plt.subplot(1, len(numeric_cols), i)\n",
        "    sns.histplot(df[col], kde=True)\n",
        "    plt.title(f'Distribution of {col}')\n",
        "plt.tight_layout()\n",
        "plt.show()"
      ],
      "metadata": {
        "colab": {
          "base_uri": "https://localhost:8080/",
          "height": 407
        },
        "id": "xw58e0-zfURr",
        "outputId": "541983e2-974e-49d2-81c7-747e631d674e"
      },
      "execution_count": 16,
      "outputs": [
        {
          "output_type": "display_data",
          "data": {
            "text/plain": [
              "<Figure size 1200x400 with 1 Axes>"
            ],
            "image/png": "[encoded data removed]"
          },
          "metadata": {}
        }
      ]
    },
    {
      "cell_type": "code",
      "source": [
        " #1.2 Categorical Features Distribution\n",
        "categorical_cols = ['day_of_visit', 'age_group', 'gender', 'occupation', 'player_level']\n",
        "print(\"\\nCategorical Features Distribution:\")\n",
        "plt.figure(figsize=(15, 10))\n",
        "for i, col in enumerate(categorical_cols, 1):\n",
        "    plt.subplot(2, 3, i)\n",
        "    df[col].value_counts().plot(kind='bar')\n",
        "    plt.title(f'Distribution of {col}')\n",
        "plt.tight_layout()\n",
        "plt.show()\n",
        "\n"
      ],
      "metadata": {
        "colab": {
          "base_uri": "https://localhost:8080/",
          "height": 1000
        },
        "id": "-isKRVdweu2t",
        "outputId": "fc8f7258-5a06-4ccf-b9da-7b35fb59a668"
      },
      "execution_count": 19,
      "outputs": [
        {
          "output_type": "stream",
          "name": "stdout",
          "text": [
            "\n",
            "Categorical Features Distribution:\n"
          ]
        },
        {
          "output_type": "display_data",
          "data": {
            "text/plain": [
              "<Figure size 1500x1000 with 5 Axes>"
            ],
            "image/png": "[encoded data removed]"
          },
          "metadata": {}
        }
      ]
    },
    {
      "cell_type": "code",
      "source": [
        "\n",
        "# 1.3 Target Variable Analysis (synthetic)\n",
        "plt.figure(figsize=(12, 4))\n",
        "plt.subplot(1, 2, 1)\n",
        "df['will_return'].value_counts().plot(kind='pie', autopct='%1.1f%%')\n",
        "plt.title('Will Return Distribution')\n",
        "\n",
        "plt.subplot(1, 2, 2)\n",
        "sns.histplot(df['days_until_next_visit'].dropna(), bins=30, kde=True)\n",
        "plt.title('Days Until Next Visit Distribution')\n",
        "plt.show()"
      ],
      "metadata": {
        "colab": {
          "base_uri": "https://localhost:8080/",
          "height": 410
        },
        "id": "AoLayRTUexKI",
        "outputId": "d97228bb-b3f6-4dc7-830c-d06aee8552a1"
      },
      "execution_count": 20,
      "outputs": [
        {
          "output_type": "display_data",
          "data": {
            "text/plain": [
              "<Figure size 1200x400 with 2 Axes>"
            ],
            "image/png": "[encoded data removed]"
          },
          "metadata": {}
        }
      ]
    },
    {
      "cell_type": "markdown",
      "source": [
        "Target Variables:\n",
        "will_return:\n",
        "\n",
        "Imbalanced (69.2% return vs 30.8% not return)\n",
        "\n",
        "days_until_next_visit:\n",
        "\n",
        "Right-skewed with most returns within a short period\n",
        "\n",
        "Long-tail of infrequent visitors"
      ],
      "metadata": {
        "id": "D4ot7jmhgCNh"
      }
    },
    {
      "cell_type": "markdown",
      "source": [
        "1. Fixing Imbalanced Classification (will_return)\n",
        "A. Data-Level Solutions\n",
        "\n",
        "Class Weighting\tmodel = XGBClassifier(scale_pos_weight=0.308/0.692)\t=> No data loss => May not work for extreme imbalance\n",
        "SMOTE Oversampling\tfrom imblearn.over_sampling import SMOTE<br>X_res, y_res = SMOTE().fit_resample(X, y)\t=> Balances classes\tCan create synthetic outliers\n",
        "Under-Sampling\tfrom imblearn.under_sampling import RandomUnderSampler<br>rus = RandomUnderSampler() => X_res, y_res = rus.fit_resample(X, y) => Reduces training time\t-> Loses potentially useful data"
      ],
      "metadata": {
        "id": "mvPXbjuKgNEO"
      }
    },
    {
      "cell_type": "code",
      "source": [
        "import numpy as np\n",
        "import pandas as pd\n",
        "from xgboost import XGBClassifier, XGBRegressor\n",
        "from sklearn.ensemble import GradientBoostingRegressor\n",
        "from sklearn.linear_model import GammaRegressor\n",
        "from sklearn.preprocessing import QuantileTransformer, FunctionTransformer, OneHotEncoder, StandardScaler\n",
        "from sklearn.impute import SimpleImputer\n",
        "from sklearn.compose import ColumnTransformer\n",
        "from sklearn.pipeline import Pipeline\n",
        "from sklearn.metrics import precision_recall_curve, auc, f1_score\n",
        "from scipy.stats import boxcox\n",
        "from sklearn.base import BaseEstimator\n"
      ],
      "metadata": {
        "id": "9vDjAaN5hx7s"
      },
      "execution_count": 32,
      "outputs": []
    },
    {
      "cell_type": "markdown",
      "source": [
        "1. Evaluation Metrics for Classification (will_return) Create target variables (since your dataset doesn't have them)\n",
        "# In a real scenario, these should come from your historical booking data"
      ],
      "metadata": {
        "id": "eUr84MTMh4tT"
      }
    },
    {
      "cell_type": "code",
      "source": [
        "# Check columns and target column existence\n",
        "print(\"Columns available:\", df.columns)"
      ],
      "metadata": {
        "colab": {
          "base_uri": "https://localhost:8080/"
        },
        "id": "uO0BkBsWn8tO",
        "outputId": "aef54284-236c-4fa0-c3a7-704d67335860"
      },
      "execution_count": 54,
      "outputs": [
        {
          "output_type": "stream",
          "name": "stdout",
          "text": [
            "Columns available: Index(['day_of_visit', 'age_group', 'gender', 'occupation',\n",
            "       'distance_from_futsal', 'player_level', 'day_of_week', 'will_return',\n",
            "       'days_until_next_visit'],\n",
            "      dtype='object')\n"
          ]
        }
      ]
    },
    {
      "cell_type": "code",
      "source": [
        "target_col = 'will_return'  # Correct target column name"
      ],
      "metadata": {
        "id": "RV_g233YoJ1J"
      },
      "execution_count": 57,
      "outputs": []
    },
    {
      "cell_type": "markdown",
      "source": [
        "\n",
        "# Split features and target"
      ],
      "metadata": {
        "id": "eEb9hnTWoY3s"
      }
    },
    {
      "cell_type": "code",
      "source": [
        "X = df.drop(columns=[target_col])\n",
        "y = df[target_col]\n"
      ],
      "metadata": {
        "id": "_UGvnRFMoX-m"
      },
      "execution_count": 58,
      "outputs": []
    },
    {
      "cell_type": "markdown",
      "source": [
        "# Split dataset"
      ],
      "metadata": {
        "id": "c1W1gRPUoeB9"
      }
    },
    {
      "cell_type": "code",
      "source": [
        "X_train, X_test, y_train, y_test = train_test_split(X, y, test_size=0.2, random_state=42)\n"
      ],
      "metadata": {
        "id": "OzqjG6PYogMX"
      },
      "execution_count": 59,
      "outputs": []
    },
    {
      "cell_type": "markdown",
      "source": [
        "# Identify categorical and numeric columns"
      ],
      "metadata": {
        "id": "CIc-CcPNoika"
      }
    },
    {
      "cell_type": "code",
      "source": [
        "categorical_cols = X.select_dtypes(include=['object', 'category']).columns.tolist()\n",
        "numeric_cols = X.select_dtypes(include=['int64', 'float64']).columns.tolist()\n"
      ],
      "metadata": {
        "id": "w8T672PEojrP"
      },
      "execution_count": 60,
      "outputs": []
    },
    {
      "cell_type": "markdown",
      "source": [
        "# Preprocessing for numeric data: impute missing values and scale"
      ],
      "metadata": {
        "id": "cG20TE5dolQP"
      }
    },
    {
      "cell_type": "code",
      "source": [
        "numeric_transformer = Pipeline([\n",
        "    ('imputer', SimpleImputer(strategy='mean')),\n",
        "    ('scaler', StandardScaler())\n",
        "])"
      ],
      "metadata": {
        "id": "MmdVVKfmomEk"
      },
      "execution_count": 61,
      "outputs": []
    },
    {
      "cell_type": "markdown",
      "source": [
        "\n",
        "# Preprocessing for categorical data: impute missing values and one-hot encode"
      ],
      "metadata": {
        "id": "IoJAVX4Monkp"
      }
    },
    {
      "cell_type": "code",
      "source": [
        "categorical_transformer = Pipeline([\n",
        "    ('imputer', SimpleImputer(strategy='most_frequent')),\n",
        "    ('onehot', OneHotEncoder(handle_unknown='ignore'))\n",
        "])"
      ],
      "metadata": {
        "id": "6IIyQkIyopWj"
      },
      "execution_count": 62,
      "outputs": []
    },
    {
      "cell_type": "markdown",
      "source": [
        "# Combine preprocessing steps"
      ],
      "metadata": {
        "id": "CIn1x9DyorEi"
      }
    },
    {
      "cell_type": "code",
      "source": [
        "preprocessor = ColumnTransformer([\n",
        "    ('num', numeric_transformer, numeric_cols),\n",
        "    ('cat', categorical_transformer, categorical_cols)\n",
        "])\n"
      ],
      "metadata": {
        "id": "GZbpl9cHosEu"
      },
      "execution_count": 63,
      "outputs": []
    },
    {
      "cell_type": "code",
      "source": [
        "# Create pipeline with preprocessing and classifier"
      ],
      "metadata": {
        "id": "-q5VXVk8otOY"
      },
      "execution_count": null,
      "outputs": []
    },
    {
      "cell_type": "code",
      "source": [
        "clf_pipe = Pipeline([\n",
        "    ('preprocessor', preprocessor),\n",
        "    ('classifier', RandomForestClassifier(random_state=42))\n",
        "])\n"
      ],
      "metadata": {
        "id": "0FKjXG04ouQr"
      },
      "execution_count": 64,
      "outputs": []
    },
    {
      "cell_type": "markdown",
      "source": [
        "# Fit pipeline"
      ],
      "metadata": {
        "id": "S7swyKePovhb"
      }
    },
    {
      "cell_type": "code",
      "source": [
        "clf_pipe.fit(X_train, y_train)"
      ],
      "metadata": {
        "colab": {
          "base_uri": "https://localhost:8080/",
          "height": 289
        },
        "id": "A5wSc4UoownL",
        "outputId": "77540320-1c0a-4519-da45-ed8d8aea1cfe"
      },
      "execution_count": 65,
      "outputs": [
        {
          "output_type": "execute_result",
          "data": {
            "text/plain": [
              "Pipeline(steps=[('preprocessor',\n",
              "                 ColumnTransformer(transformers=[('num',\n",
              "                                                  Pipeline(steps=[('imputer',\n",
              "                                                                   SimpleImputer()),\n",
              "                                                                  ('scaler',\n",
              "                                                                   StandardScaler())]),\n",
              "                                                  ['day_of_visit', 'age_group',\n",
              "                                                   'gender', 'occupation',\n",
              "                                                   'distance_from_futsal',\n",
              "                                                   'player_level',\n",
              "                                                   'days_until_next_visit']),\n",
              "                                                 ('cat',\n",
              "                                                  Pipeline(steps=[('imputer',\n",
              "                                                                   SimpleImputer(strategy='most_frequent')),\n",
              "                                                                  ('onehot',\n",
              "                                                                   OneHotEncoder(handle_unknown='ignore'))]),\n",
              "                                                  ['day_of_week'])])),\n",
              "                ('classifier', RandomForestClassifier(random_state=42))])"
            ],
            "text/html": [
              "<style>#sk-container-id-1 {\n",
              "  /* Definition of color scheme common for light and dark mode */\n",
              "  --sklearn-color-text: #000;\n",
              "  --sklearn-color-text-muted: #666;\n",
              "  --sklearn-color-line: gray;\n",
              "  /* Definition of color scheme for unfitted estimators */\n",
              "  --sklearn-color-unfitted-level-0: #fff5e6;\n",
              "  --sklearn-color-unfitted-level-1: #f6e4d2;\n",
              "  --sklearn-color-unfitted-level-2: #ffe0b3;\n",
              "  --sklearn-color-unfitted-level-3: chocolate;\n",
              "  /* Definition of color scheme for fitted estimators */\n",
              "  --sklearn-color-fitted-level-0: #f0f8ff;\n",
              "  --sklearn-color-fitted-level-1: #d4ebff;\n",
              "  --sklearn-color-fitted-level-2: #b3dbfd;\n",
              "  --sklearn-color-fitted-level-3: cornflowerblue;\n",
              "\n",
              "  /* Specific color for light theme */\n",
              "  --sklearn-color-text-on-default-background: var(--sg-text-color, var(--theme-code-foreground, var(--jp-content-font-color1, black)));\n",
              "  --sklearn-color-background: var(--sg-background-color, var(--theme-background, var(--jp-layout-color0, white)));\n",
              "  --sklearn-color-border-box: var(--sg-text-color, var(--theme-code-foreground, var(--jp-content-font-color1, black)));\n",
              "  --sklearn-color-icon: #696969;\n",
              "\n",
              "  @media (prefers-color-scheme: dark) {\n",
              "    /* Redefinition of color scheme for dark theme */\n",
              "    --sklearn-color-text-on-default-background: var(--sg-text-color, var(--theme-code-foreground, var(--jp-content-font-color1, white)));\n",
              "    --sklearn-color-background: var(--sg-background-color, var(--theme-background, var(--jp-layout-color0, #111)));\n",
              "    --sklearn-color-border-box: var(--sg-text-color, var(--theme-code-foreground, var(--jp-content-font-color1, white)));\n",
              "    --sklearn-color-icon: #878787;\n",
              "  }\n",
              "}\n",
              "\n",
              "#sk-container-id-1 {\n",
              "  color: var(--sklearn-color-text);\n",
              "}\n",
              "\n",
              "#sk-container-id-1 pre {\n",
              "  padding: 0;\n",
              "}\n",
              "\n",
              "#sk-container-id-1 input.sk-hidden--visually {\n",
              "  border: 0;\n",
              "  clip: rect(1px 1px 1px 1px);\n",
              "  clip: rect(1px, 1px, 1px, 1px);\n",
              "  height: 1px;\n",
              "  margin: -1px;\n",
              "  overflow: hidden;\n",
              "  padding: 0;\n",
              "  position: absolute;\n",
              "  width: 1px;\n",
              "}\n",
              "\n",
              "#sk-container-id-1 div.sk-dashed-wrapped {\n",
              "  border: 1px dashed var(--sklearn-color-line);\n",
              "  margin: 0 0.4em 0.5em 0.4em;\n",
              "  box-sizing: border-box;\n",
              "  padding-bottom: 0.4em;\n",
              "  background-color: var(--sklearn-color-background);\n",
              "}\n",
              "\n",
              "#sk-container-id-1 div.sk-container {\n",
              "  /* jupyter's `normalize.less` sets `[hidden] { display: none; }`\n",
              "     but bootstrap.min.css set `[hidden] { display: none !important; }`\n",
              "     so we also need the `!important` here to be able to override the\n",
              "     default hidden behavior on the sphinx rendered scikit-learn.org.\n",
              "     See: https://github.com/scikit-learn/scikit-learn/issues/21755 */\n",
              "  display: inline-block !important;\n",
              "  position: relative;\n",
              "}\n",
              "\n",
              "#sk-container-id-1 div.sk-text-repr-fallback {\n",
              "  display: none;\n",
              "}\n",
              "\n",
              "div.sk-parallel-item,\n",
              "div.sk-serial,\n",
              "div.sk-item {\n",
              "  /* draw centered vertical line to link estimators */\n",
              "  background-image: linear-gradient(var(--sklearn-color-text-on-default-background), var(--sklearn-color-text-on-default-background));\n",
              "  background-size: 2px 100%;\n",
              "  background-repeat: no-repeat;\n",
              "  background-position: center center;\n",
              "}\n",
              "\n",
              "/* Parallel-specific style estimator block */\n",
              "\n",
              "#sk-container-id-1 div.sk-parallel-item::after {\n",
              "  content: \"\";\n",
              "  width: 100%;\n",
              "  border-bottom: 2px solid var(--sklearn-color-text-on-default-background);\n",
              "  flex-grow: 1;\n",
              "}\n",
              "\n",
              "#sk-container-id-1 div.sk-parallel {\n",
              "  display: flex;\n",
              "  align-items: stretch;\n",
              "  justify-content: center;\n",
              "  background-color: var(--sklearn-color-background);\n",
              "  position: relative;\n",
              "}\n",
              "\n",
              "#sk-container-id-1 div.sk-parallel-item {\n",
              "  display: flex;\n",
              "  flex-direction: column;\n",
              "}\n",
              "\n",
              "#sk-container-id-1 div.sk-parallel-item:first-child::after {\n",
              "  align-self: flex-end;\n",
              "  width: 50%;\n",
              "}\n",
              "\n",
              "#sk-container-id-1 div.sk-parallel-item:last-child::after {\n",
              "  align-self: flex-start;\n",
              "  width: 50%;\n",
              "}\n",
              "\n",
              "#sk-container-id-1 div.sk-parallel-item:only-child::after {\n",
              "  width: 0;\n",
              "}\n",
              "\n",
              "/* Serial-specific style estimator block */\n",
              "\n",
              "#sk-container-id-1 div.sk-serial {\n",
              "  display: flex;\n",
              "  flex-direction: column;\n",
              "  align-items: center;\n",
              "  background-color: var(--sklearn-color-background);\n",
              "  padding-right: 1em;\n",
              "  padding-left: 1em;\n",
              "}\n",
              "\n",
              "\n",
              "/* Toggleable style: style used for estimator/Pipeline/ColumnTransformer box that is\n",
              "clickable and can be expanded/collapsed.\n",
              "- Pipeline and ColumnTransformer use this feature and define the default style\n",
              "- Estimators will overwrite some part of the style using the `sk-estimator` class\n",
              "*/\n",
              "\n",
              "/* Pipeline and ColumnTransformer style (default) */\n",
              "\n",
              "#sk-container-id-1 div.sk-toggleable {\n",
              "  /* Default theme specific background. It is overwritten whether we have a\n",
              "  specific estimator or a Pipeline/ColumnTransformer */\n",
              "  background-color: var(--sklearn-color-background);\n",
              "}\n",
              "\n",
              "/* Toggleable label */\n",
              "#sk-container-id-1 label.sk-toggleable__label {\n",
              "  cursor: pointer;\n",
              "  display: flex;\n",
              "  width: 100%;\n",
              "  margin-bottom: 0;\n",
              "  padding: 0.5em;\n",
              "  box-sizing: border-box;\n",
              "  text-align: center;\n",
              "  align-items: start;\n",
              "  justify-content: space-between;\n",
              "  gap: 0.5em;\n",
              "}\n",
              "\n",
              "#sk-container-id-1 label.sk-toggleable__label .caption {\n",
              "  font-size: 0.6rem;\n",
              "  font-weight: lighter;\n",
              "  color: var(--sklearn-color-text-muted);\n",
              "}\n",
              "\n",
              "#sk-container-id-1 label.sk-toggleable__label-arrow:before {\n",
              "  /* Arrow on the left of the label */\n",
              "  content: \"▸\";\n",
              "  float: left;\n",
              "  margin-right: 0.25em;\n",
              "  color: var(--sklearn-color-icon);\n",
              "}\n",
              "\n",
              "#sk-container-id-1 label.sk-toggleable__label-arrow:hover:before {\n",
              "  color: var(--sklearn-color-text);\n",
              "}\n",
              "\n",
              "/* Toggleable content - dropdown */\n",
              "\n",
              "#sk-container-id-1 div.sk-toggleable__content {\n",
              "  max-height: 0;\n",
              "  max-width: 0;\n",
              "  overflow: hidden;\n",
              "  text-align: left;\n",
              "  /* unfitted */\n",
              "  background-color: var(--sklearn-color-unfitted-level-0);\n",
              "}\n",
              "\n",
              "#sk-container-id-1 div.sk-toggleable__content.fitted {\n",
              "  /* fitted */\n",
              "  background-color: var(--sklearn-color-fitted-level-0);\n",
              "}\n",
              "\n",
              "#sk-container-id-1 div.sk-toggleable__content pre {\n",
              "  margin: 0.2em;\n",
              "  border-radius: 0.25em;\n",
              "  color: var(--sklearn-color-text);\n",
              "  /* unfitted */\n",
              "  background-color: var(--sklearn-color-unfitted-level-0);\n",
              "}\n",
              "\n",
              "#sk-container-id-1 div.sk-toggleable__content.fitted pre {\n",
              "  /* unfitted */\n",
              "  background-color: var(--sklearn-color-fitted-level-0);\n",
              "}\n",
              "\n",
              "#sk-container-id-1 input.sk-toggleable__control:checked~div.sk-toggleable__content {\n",
              "  /* Expand drop-down */\n",
              "  max-height: 200px;\n",
              "  max-width: 100%;\n",
              "  overflow: auto;\n",
              "}\n",
              "\n",
              "#sk-container-id-1 input.sk-toggleable__control:checked~label.sk-toggleable__label-arrow:before {\n",
              "  content: \"▾\";\n",
              "}\n",
              "\n",
              "/* Pipeline/ColumnTransformer-specific style */\n",
              "\n",
              "#sk-container-id-1 div.sk-label input.sk-toggleable__control:checked~label.sk-toggleable__label {\n",
              "  color: var(--sklearn-color-text);\n",
              "  background-color: var(--sklearn-color-unfitted-level-2);\n",
              "}\n",
              "\n",
              "#sk-container-id-1 div.sk-label.fitted input.sk-toggleable__control:checked~label.sk-toggleable__label {\n",
              "  background-color: var(--sklearn-color-fitted-level-2);\n",
              "}\n",
              "\n",
              "/* Estimator-specific style */\n",
              "\n",
              "/* Colorize estimator box */\n",
              "#sk-container-id-1 div.sk-estimator input.sk-toggleable__control:checked~label.sk-toggleable__label {\n",
              "  /* unfitted */\n",
              "  background-color: var(--sklearn-color-unfitted-level-2);\n",
              "}\n",
              "\n",
              "#sk-container-id-1 div.sk-estimator.fitted input.sk-toggleable__control:checked~label.sk-toggleable__label {\n",
              "  /* fitted */\n",
              "  background-color: var(--sklearn-color-fitted-level-2);\n",
              "}\n",
              "\n",
              "#sk-container-id-1 div.sk-label label.sk-toggleable__label,\n",
              "#sk-container-id-1 div.sk-label label {\n",
              "  /* The background is the default theme color */\n",
              "  color: var(--sklearn-color-text-on-default-background);\n",
              "}\n",
              "\n",
              "/* On hover, darken the color of the background */\n",
              "#sk-container-id-1 div.sk-label:hover label.sk-toggleable__label {\n",
              "  color: var(--sklearn-color-text);\n",
              "  background-color: var(--sklearn-color-unfitted-level-2);\n",
              "}\n",
              "\n",
              "/* Label box, darken color on hover, fitted */\n",
              "#sk-container-id-1 div.sk-label.fitted:hover label.sk-toggleable__label.fitted {\n",
              "  color: var(--sklearn-color-text);\n",
              "  background-color: var(--sklearn-color-fitted-level-2);\n",
              "}\n",
              "\n",
              "/* Estimator label */\n",
              "\n",
              "#sk-container-id-1 div.sk-label label {\n",
              "  font-family: monospace;\n",
              "  font-weight: bold;\n",
              "  display: inline-block;\n",
              "  line-height: 1.2em;\n",
              "}\n",
              "\n",
              "#sk-container-id-1 div.sk-label-container {\n",
              "  text-align: center;\n",
              "}\n",
              "\n",
              "/* Estimator-specific */\n",
              "#sk-container-id-1 div.sk-estimator {\n",
              "  font-family: monospace;\n",
              "  border: 1px dotted var(--sklearn-color-border-box);\n",
              "  border-radius: 0.25em;\n",
              "  box-sizing: border-box;\n",
              "  margin-bottom: 0.5em;\n",
              "  /* unfitted */\n",
              "  background-color: var(--sklearn-color-unfitted-level-0);\n",
              "}\n",
              "\n",
              "#sk-container-id-1 div.sk-estimator.fitted {\n",
              "  /* fitted */\n",
              "  background-color: var(--sklearn-color-fitted-level-0);\n",
              "}\n",
              "\n",
              "/* on hover */\n",
              "#sk-container-id-1 div.sk-estimator:hover {\n",
              "  /* unfitted */\n",
              "  background-color: var(--sklearn-color-unfitted-level-2);\n",
              "}\n",
              "\n",
              "#sk-container-id-1 div.sk-estimator.fitted:hover {\n",
              "  /* fitted */\n",
              "  background-color: var(--sklearn-color-fitted-level-2);\n",
              "}\n",
              "\n",
              "/* Specification for estimator info (e.g. \"i\" and \"?\") */\n",
              "\n",
              "/* Common style for \"i\" and \"?\" */\n",
              "\n",
              ".sk-estimator-doc-link,\n",
              "a:link.sk-estimator-doc-link,\n",
              "a:visited.sk-estimator-doc-link {\n",
              "  float: right;\n",
              "  font-size: smaller;\n",
              "  line-height: 1em;\n",
              "  font-family: monospace;\n",
              "  background-color: var(--sklearn-color-background);\n",
              "  border-radius: 1em;\n",
              "  height: 1em;\n",
              "  width: 1em;\n",
              "  text-decoration: none !important;\n",
              "  margin-left: 0.5em;\n",
              "  text-align: center;\n",
              "  /* unfitted */\n",
              "  border: var(--sklearn-color-unfitted-level-1) 1pt solid;\n",
              "  color: var(--sklearn-color-unfitted-level-1);\n",
              "}\n",
              "\n",
              ".sk-estimator-doc-link.fitted,\n",
              "a:link.sk-estimator-doc-link.fitted,\n",
              "a:visited.sk-estimator-doc-link.fitted {\n",
              "  /* fitted */\n",
              "  border: var(--sklearn-color-fitted-level-1) 1pt solid;\n",
              "  color: var(--sklearn-color-fitted-level-1);\n",
              "}\n",
              "\n",
              "/* On hover */\n",
              "div.sk-estimator:hover .sk-estimator-doc-link:hover,\n",
              ".sk-estimator-doc-link:hover,\n",
              "div.sk-label-container:hover .sk-estimator-doc-link:hover,\n",
              ".sk-estimator-doc-link:hover {\n",
              "  /* unfitted */\n",
              "  background-color: var(--sklearn-color-unfitted-level-3);\n",
              "  color: var(--sklearn-color-background);\n",
              "  text-decoration: none;\n",
              "}\n",
              "\n",
              "div.sk-estimator.fitted:hover .sk-estimator-doc-link.fitted:hover,\n",
              ".sk-estimator-doc-link.fitted:hover,\n",
              "div.sk-label-container:hover .sk-estimator-doc-link.fitted:hover,\n",
              ".sk-estimator-doc-link.fitted:hover {\n",
              "  /* fitted */\n",
              "  background-color: var(--sklearn-color-fitted-level-3);\n",
              "  color: var(--sklearn-color-background);\n",
              "  text-decoration: none;\n",
              "}\n",
              "\n",
              "/* Span, style for the box shown on hovering the info icon */\n",
              ".sk-estimator-doc-link span {\n",
              "  display: none;\n",
              "  z-index: 9999;\n",
              "  position: relative;\n",
              "  font-weight: normal;\n",
              "  right: .2ex;\n",
              "  padding: .5ex;\n",
              "  margin: .5ex;\n",
              "  width: min-content;\n",
              "  min-width: 20ex;\n",
              "  max-width: 50ex;\n",
              "  color: var(--sklearn-color-text);\n",
              "  box-shadow: 2pt 2pt 4pt #999;\n",
              "  /* unfitted */\n",
              "  background: var(--sklearn-color-unfitted-level-0);\n",
              "  border: .5pt solid var(--sklearn-color-unfitted-level-3);\n",
              "}\n",
              "\n",
              ".sk-estimator-doc-link.fitted span {\n",
              "  /* fitted */\n",
              "  background: var(--sklearn-color-fitted-level-0);\n",
              "  border: var(--sklearn-color-fitted-level-3);\n",
              "}\n",
              "\n",
              ".sk-estimator-doc-link:hover span {\n",
              "  display: block;\n",
              "}\n",
              "\n",
              "/* \"?\"-specific style due to the `<a>` HTML tag */\n",
              "\n",
              "#sk-container-id-1 a.estimator_doc_link {\n",
              "  float: right;\n",
              "  font-size: 1rem;\n",
              "  line-height: 1em;\n",
              "  font-family: monospace;\n",
              "  background-color: var(--sklearn-color-background);\n",
              "  border-radius: 1rem;\n",
              "  height: 1rem;\n",
              "  width: 1rem;\n",
              "  text-decoration: none;\n",
              "  /* unfitted */\n",
              "  color: var(--sklearn-color-unfitted-level-1);\n",
              "  border: var(--sklearn-color-unfitted-level-1) 1pt solid;\n",
              "}\n",
              "\n",
              "#sk-container-id-1 a.estimator_doc_link.fitted {\n",
              "  /* fitted */\n",
              "  border: var(--sklearn-color-fitted-level-1) 1pt solid;\n",
              "  color: var(--sklearn-color-fitted-level-1);\n",
              "}\n",
              "\n",
              "/* On hover */\n",
              "#sk-container-id-1 a.estimator_doc_link:hover {\n",
              "  /* unfitted */\n",
              "  background-color: var(--sklearn-color-unfitted-level-3);\n",
              "  color: var(--sklearn-color-background);\n",
              "  text-decoration: none;\n",
              "}\n",
              "\n",
              "#sk-container-id-1 a.estimator_doc_link.fitted:hover {\n",
              "  /* fitted */\n",
              "  background-color: var(--sklearn-color-fitted-level-3);\n",
              "}\n",
              "</style><div id=\"sk-container-id-1\" class=\"sk-top-container\"><div class=\"sk-text-repr-fallback\"><pre>Pipeline(steps=[(&#x27;preprocessor&#x27;,\n",
              "                 ColumnTransformer(transformers=[(&#x27;num&#x27;,\n",
              "                                                  Pipeline(steps=[(&#x27;imputer&#x27;,\n",
              "                                                                   SimpleImputer()),\n",
              "                                                                  (&#x27;scaler&#x27;,\n",
              "                                                                   StandardScaler())]),\n",
              "                                                  [&#x27;day_of_visit&#x27;, &#x27;age_group&#x27;,\n",
              "                                                   &#x27;gender&#x27;, &#x27;occupation&#x27;,\n",
              "                                                   &#x27;distance_from_futsal&#x27;,\n",
              "                                                   &#x27;player_level&#x27;,\n",
              "                                                   &#x27;days_until_next_visit&#x27;]),\n",
              "                                                 (&#x27;cat&#x27;,\n",
              "                                                  Pipeline(steps=[(&#x27;imputer&#x27;,\n",
              "                                                                   SimpleImputer(strategy=&#x27;most_frequent&#x27;)),\n",
              "                                                                  (&#x27;onehot&#x27;,\n",
              "                                                                   OneHotEncoder(handle_unknown=&#x27;ignore&#x27;))]),\n",
              "                                                  [&#x27;day_of_week&#x27;])])),\n",
              "                (&#x27;classifier&#x27;, RandomForestClassifier(random_state=42))])</pre><b>In a Jupyter environment, please rerun this cell to show the HTML representation or trust the notebook. <br />On GitHub, the HTML representation is unable to render, please try loading this page with nbviewer.org.</b></div><div class=\"sk-container\" hidden><div class=\"sk-item sk-dashed-wrapped\"><div class=\"sk-label-container\"><div class=\"sk-label fitted sk-toggleable\"><input class=\"sk-toggleable__control sk-hidden--visually\" id=\"sk-estimator-id-1\" type=\"checkbox\" ><label for=\"sk-estimator-id-1\" class=\"sk-toggleable__label fitted sk-toggleable__label-arrow\"><div><div>Pipeline</div></div><div><a class=\"sk-estimator-doc-link fitted\" rel=\"noreferrer\" target=\"_blank\" href=\"https://scikit-learn.org/1.6/modules/generated/sklearn.pipeline.Pipeline.html\">?<span>Documentation for Pipeline</span></a><span class=\"sk-estimator-doc-link fitted\">i<span>Fitted</span></span></div></label><div class=\"sk-toggleable__content fitted\"><pre>Pipeline(steps=[(&#x27;preprocessor&#x27;,\n",
              "                 ColumnTransformer(transformers=[(&#x27;num&#x27;,\n",
              "                                                  Pipeline(steps=[(&#x27;imputer&#x27;,\n",
              "                                                                   SimpleImputer()),\n",
              "                                                                  (&#x27;scaler&#x27;,\n",
              "                                                                   StandardScaler())]),\n",
              "                                                  [&#x27;day_of_visit&#x27;, &#x27;age_group&#x27;,\n",
              "                                                   &#x27;gender&#x27;, &#x27;occupation&#x27;,\n",
              "                                                   &#x27;distance_from_futsal&#x27;,\n",
              "                                                   &#x27;player_level&#x27;,\n",
              "                                                   &#x27;days_until_next_visit&#x27;]),\n",
              "                                                 (&#x27;cat&#x27;,\n",
              "                                                  Pipeline(steps=[(&#x27;imputer&#x27;,\n",
              "                                                                   SimpleImputer(strategy=&#x27;most_frequent&#x27;)),\n",
              "                                                                  (&#x27;onehot&#x27;,\n",
              "                                                                   OneHotEncoder(handle_unknown=&#x27;ignore&#x27;))]),\n",
              "                                                  [&#x27;day_of_week&#x27;])])),\n",
              "                (&#x27;classifier&#x27;, RandomForestClassifier(random_state=42))])</pre></div> </div></div><div class=\"sk-serial\"><div class=\"sk-item sk-dashed-wrapped\"><div class=\"sk-label-container\"><div class=\"sk-label fitted sk-toggleable\"><input class=\"sk-toggleable__control sk-hidden--visually\" id=\"sk-estimator-id-2\" type=\"checkbox\" ><label for=\"sk-estimator-id-2\" class=\"sk-toggleable__label fitted sk-toggleable__label-arrow\"><div><div>preprocessor: ColumnTransformer</div></div><div><a class=\"sk-estimator-doc-link fitted\" rel=\"noreferrer\" target=\"_blank\" href=\"https://scikit-learn.org/1.6/modules/generated/sklearn.compose.ColumnTransformer.html\">?<span>Documentation for preprocessor: ColumnTransformer</span></a></div></label><div class=\"sk-toggleable__content fitted\"><pre>ColumnTransformer(transformers=[(&#x27;num&#x27;,\n",
              "                                 Pipeline(steps=[(&#x27;imputer&#x27;, SimpleImputer()),\n",
              "                                                 (&#x27;scaler&#x27;, StandardScaler())]),\n",
              "                                 [&#x27;day_of_visit&#x27;, &#x27;age_group&#x27;, &#x27;gender&#x27;,\n",
              "                                  &#x27;occupation&#x27;, &#x27;distance_from_futsal&#x27;,\n",
              "                                  &#x27;player_level&#x27;, &#x27;days_until_next_visit&#x27;]),\n",
              "                                (&#x27;cat&#x27;,\n",
              "                                 Pipeline(steps=[(&#x27;imputer&#x27;,\n",
              "                                                  SimpleImputer(strategy=&#x27;most_frequent&#x27;)),\n",
              "                                                 (&#x27;onehot&#x27;,\n",
              "                                                  OneHotEncoder(handle_unknown=&#x27;ignore&#x27;))]),\n",
              "                                 [&#x27;day_of_week&#x27;])])</pre></div> </div></div><div class=\"sk-parallel\"><div class=\"sk-parallel-item\"><div class=\"sk-item\"><div class=\"sk-label-container\"><div class=\"sk-label fitted sk-toggleable\"><input class=\"sk-toggleable__control sk-hidden--visually\" id=\"sk-estimator-id-3\" type=\"checkbox\" ><label for=\"sk-estimator-id-3\" class=\"sk-toggleable__label fitted sk-toggleable__label-arrow\"><div><div>num</div></div></label><div class=\"sk-toggleable__content fitted\"><pre>[&#x27;day_of_visit&#x27;, &#x27;age_group&#x27;, &#x27;gender&#x27;, &#x27;occupation&#x27;, &#x27;distance_from_futsal&#x27;, &#x27;player_level&#x27;, &#x27;days_until_next_visit&#x27;]</pre></div> </div></div><div class=\"sk-serial\"><div class=\"sk-item\"><div class=\"sk-serial\"><div class=\"sk-item\"><div class=\"sk-estimator fitted sk-toggleable\"><input class=\"sk-toggleable__control sk-hidden--visually\" id=\"sk-estimator-id-4\" type=\"checkbox\" ><label for=\"sk-estimator-id-4\" class=\"sk-toggleable__label fitted sk-toggleable__label-arrow\"><div><div>SimpleImputer</div></div><div><a class=\"sk-estimator-doc-link fitted\" rel=\"noreferrer\" target=\"_blank\" href=\"https://scikit-learn.org/1.6/modules/generated/sklearn.impute.SimpleImputer.html\">?<span>Documentation for SimpleImputer</span></a></div></label><div class=\"sk-toggleable__content fitted\"><pre>SimpleImputer()</pre></div> </div></div><div class=\"sk-item\"><div class=\"sk-estimator fitted sk-toggleable\"><input class=\"sk-toggleable__control sk-hidden--visually\" id=\"sk-estimator-id-5\" type=\"checkbox\" ><label for=\"sk-estimator-id-5\" class=\"sk-toggleable__label fitted sk-toggleable__label-arrow\"><div><div>StandardScaler</div></div><div><a class=\"sk-estimator-doc-link fitted\" rel=\"noreferrer\" target=\"_blank\" href=\"https://scikit-learn.org/1.6/modules/generated/sklearn.preprocessing.StandardScaler.html\">?<span>Documentation for StandardScaler</span></a></div></label><div class=\"sk-toggleable__content fitted\"><pre>StandardScaler()</pre></div> </div></div></div></div></div></div></div><div class=\"sk-parallel-item\"><div class=\"sk-item\"><div class=\"sk-label-container\"><div class=\"sk-label fitted sk-toggleable\"><input class=\"sk-toggleable__control sk-hidden--visually\" id=\"sk-estimator-id-6\" type=\"checkbox\" ><label for=\"sk-estimator-id-6\" class=\"sk-toggleable__label fitted sk-toggleable__label-arrow\"><div><div>cat</div></div></label><div class=\"sk-toggleable__content fitted\"><pre>[&#x27;day_of_week&#x27;]</pre></div> </div></div><div class=\"sk-serial\"><div class=\"sk-item\"><div class=\"sk-serial\"><div class=\"sk-item\"><div class=\"sk-estimator fitted sk-toggleable\"><input class=\"sk-toggleable__control sk-hidden--visually\" id=\"sk-estimator-id-7\" type=\"checkbox\" ><label for=\"sk-estimator-id-7\" class=\"sk-toggleable__label fitted sk-toggleable__label-arrow\"><div><div>SimpleImputer</div></div><div><a class=\"sk-estimator-doc-link fitted\" rel=\"noreferrer\" target=\"_blank\" href=\"https://scikit-learn.org/1.6/modules/generated/sklearn.impute.SimpleImputer.html\">?<span>Documentation for SimpleImputer</span></a></div></label><div class=\"sk-toggleable__content fitted\"><pre>SimpleImputer(strategy=&#x27;most_frequent&#x27;)</pre></div> </div></div><div class=\"sk-item\"><div class=\"sk-estimator fitted sk-toggleable\"><input class=\"sk-toggleable__control sk-hidden--visually\" id=\"sk-estimator-id-8\" type=\"checkbox\" ><label for=\"sk-estimator-id-8\" class=\"sk-toggleable__label fitted sk-toggleable__label-arrow\"><div><div>OneHotEncoder</div></div><div><a class=\"sk-estimator-doc-link fitted\" rel=\"noreferrer\" target=\"_blank\" href=\"https://scikit-learn.org/1.6/modules/generated/sklearn.preprocessing.OneHotEncoder.html\">?<span>Documentation for OneHotEncoder</span></a></div></label><div class=\"sk-toggleable__content fitted\"><pre>OneHotEncoder(handle_unknown=&#x27;ignore&#x27;)</pre></div> </div></div></div></div></div></div></div></div></div><div class=\"sk-item\"><div class=\"sk-estimator fitted sk-toggleable\"><input class=\"sk-toggleable__control sk-hidden--visually\" id=\"sk-estimator-id-9\" type=\"checkbox\" ><label for=\"sk-estimator-id-9\" class=\"sk-toggleable__label fitted sk-toggleable__label-arrow\"><div><div>RandomForestClassifier</div></div><div><a class=\"sk-estimator-doc-link fitted\" rel=\"noreferrer\" target=\"_blank\" href=\"https://scikit-learn.org/1.6/modules/generated/sklearn.ensemble.RandomForestClassifier.html\">?<span>Documentation for RandomForestClassifier</span></a></div></label><div class=\"sk-toggleable__content fitted\"><pre>RandomForestClassifier(random_state=42)</pre></div> </div></div></div></div></div></div>"
            ]
          },
          "metadata": {},
          "execution_count": 65
        }
      ]
    },
    {
      "cell_type": "code",
      "source": [
        "# Evaluate\n",
        "accuracy = clf_pipe.score(X_test, y_test)\n",
        "print(f\"Test accuracy: {accuracy:.4f}\")"
      ],
      "metadata": {
        "colab": {
          "base_uri": "https://localhost:8080/"
        },
        "id": "FmIhTSEYoyvU",
        "outputId": "0f0ddc4c-0d15-4858-b89a-459a6619972f"
      },
      "execution_count": 66,
      "outputs": [
        {
          "output_type": "stream",
          "name": "stdout",
          "text": [
            "Test accuracy: 1.0000\n"
          ]
        }
      ]
    },
    {
      "cell_type": "code",
      "source": [
        "print(y.value_counts(normalize=True))"
      ],
      "metadata": {
        "colab": {
          "base_uri": "https://localhost:8080/"
        },
        "id": "rnCb83dgo7XJ",
        "outputId": "094a178f-805f-4c97-9ea6-a93897179ff4"
      },
      "execution_count": 67,
      "outputs": [
        {
          "output_type": "stream",
          "name": "stdout",
          "text": [
            "will_return\n",
            "1    0.6925\n",
            "0    0.3075\n",
            "Name: proportion, dtype: float64\n"
          ]
        }
      ]
    },
    {
      "cell_type": "code",
      "source": [
        "from sklearn.metrics import classification_report\n",
        "\n",
        "y_pred = clf_pipe.predict(X_test)\n",
        "print(classification_report(y_test, y_pred))"
      ],
      "metadata": {
        "colab": {
          "base_uri": "https://localhost:8080/"
        },
        "id": "j3bFxPxJpB2N",
        "outputId": "152a8188-d8bb-4866-96b5-960a6c731c65"
      },
      "execution_count": 68,
      "outputs": [
        {
          "output_type": "stream",
          "name": "stdout",
          "text": [
            "              precision    recall  f1-score   support\n",
            "\n",
            "           0       1.00      1.00      1.00       120\n",
            "           1       1.00      1.00      1.00       280\n",
            "\n",
            "    accuracy                           1.00       400\n",
            "   macro avg       1.00      1.00      1.00       400\n",
            "weighted avg       1.00      1.00      1.00       400\n",
            "\n"
          ]
        }
      ]
    },
    {
      "cell_type": "code",
      "source": [
        "from sklearn.model_selection import cross_val_score\n",
        "\n",
        "scores = cross_val_score(clf_pipe, X, y, cv=5)\n",
        "print(\"CV Accuracy scores:\", scores)\n",
        "print(\"Mean CV Accuracy:\", scores.mean())"
      ],
      "metadata": {
        "colab": {
          "base_uri": "https://localhost:8080/"
        },
        "id": "HRQb1PhFpEuT",
        "outputId": "ce21f88a-6a57-4ae2-8e8c-a923fb93900d"
      },
      "execution_count": 69,
      "outputs": [
        {
          "output_type": "stream",
          "name": "stdout",
          "text": [
            "CV Accuracy scores: [1. 1. 1. 1. 1.]\n",
            "Mean CV Accuracy: 1.0\n"
          ]
        }
      ]
    },
    {
      "cell_type": "code",
      "source": [
        "# XGBoost with focal loss (handles imbalance)\n",
        "# 2. FOCAL LOSS IMPLEMENTATION\n",
        "class FocalLossObjective(BaseEstimator):\n",
        "    def __init__(self, alpha=0.25, gamma=2.0):\n",
        "        self.alpha = alpha\n",
        "        self.gamma = gamma\n",
        "\n",
        "    def __call__(self, preds, dtrain):\n",
        "        labels = dtrain.get_label()\n",
        "        preds = np.clip(preds, -10, 10)\n",
        "        sigmoid = 1 / (1 + np.exp(-preds))\n",
        "        sigmoid = np.clip(sigmoid, 1e-8, 1-1e-8)\n",
        "\n",
        "        # Gradient calculation\n",
        "        term1 = self.gamma * (1 - sigmoid) * np.log(sigmoid) * labels\n",
        "        term2 = sigmoid * (self.gamma * sigmoid + self.alpha - 1)\n",
        "        grad = sigmoid * (1 - sigmoid) * (term1 + term2)\n",
        "\n",
        "        # Hessian calculation\n",
        "        term3 = self.gamma * (1 - 2*sigmoid) * np.log(sigmoid)\n",
        "        term4 = self.gamma * (1 - sigmoid) - self.alpha + 1\n",
        "        hess = sigmoid * (1 - sigmoid) * (term3 + term4)\n",
        "\n",
        "        return grad, hess"
      ],
      "metadata": {
        "id": "2rOZoSlDezDZ"
      },
      "execution_count": 38,
      "outputs": []
    },
    {
      "cell_type": "code",
      "source": [
        "# === Preprocess categorical columns ===\n",
        "categorical_cols = df.select_dtypes(include=['object']).columns.tolist()\n",
        "for col in categorical_cols:\n",
        "    df[col] = df[col].astype('category').cat.codes"
      ],
      "metadata": {
        "id": "PkSNc9T9pcHS"
      },
      "execution_count": 72,
      "outputs": []
    },
    {
      "cell_type": "code",
      "source": [
        "# === Define features and target ===\n",
        "X = df.drop(columns=['will_return'])\n",
        "y = df['will_return']\n"
      ],
      "metadata": {
        "id": "xkrYZdFwpwwd"
      },
      "execution_count": 73,
      "outputs": []
    },
    {
      "cell_type": "code",
      "source": [
        "# === Train-test split ===\n",
        "X_train, X_test, y_train, y_test = train_test_split(X, y, test_size=0.2, random_state=42)\n"
      ],
      "metadata": {
        "id": "tEN7gcsPpx7k"
      },
      "execution_count": 74,
      "outputs": []
    },
    {
      "cell_type": "code",
      "source": [
        "# === Convert to DMatrix for XGBoost ===\n",
        "dtrain = xgb.DMatrix(X_train, label=y_train)\n",
        "dtest = xgb.DMatrix(X_test, label=y_test)\n"
      ],
      "metadata": {
        "id": "v48mxs9Tpzuz"
      },
      "execution_count": 75,
      "outputs": []
    },
    {
      "cell_type": "code",
      "source": [
        "params = {\n",
        "    'max_depth': 3,\n",
        "    'eta': 0.1,\n",
        "    'objective': 'binary:logistic',\n",
        "    'eval_metric': 'logloss',\n",
        "    'verbosity': 1\n",
        "}"
      ],
      "metadata": {
        "id": "5PSR7WRkp1X4"
      },
      "execution_count": 83,
      "outputs": []
    },
    {
      "cell_type": "code",
      "source": [
        "# Simplified focal loss objective for XGBoost\n",
        "def focal_loss_obj(preds, dtrain):\n",
        "    alpha = 0.25\n",
        "    gamma = 2.0\n",
        "\n",
        "    labels = dtrain.get_label()\n",
        "    preds = 1.0 / (1.0 + np.exp(-preds))  # sigmoid\n",
        "    preds = np.clip(preds, 1e-8, 1 - 1e-8)\n",
        "\n",
        "    p_t = preds * labels + (1 - preds) * (1 - labels)  # p_t\n",
        "\n",
        "    grad = alpha * ( (preds - labels) * (gamma * (1 - p_t) ** (gamma - 1) * np.log(p_t) + (1 - p_t) ** gamma) )\n",
        "    hess = alpha * (\n",
        "        (gamma * (gamma - 1) * (1 - p_t) ** (gamma - 2) * p_t * np.log(p_t) +\n",
        "         (1 - p_t) ** (gamma - 1) * (1 - 2 * p_t) -\n",
        "         gamma * (1 - p_t) ** (gamma - 1))\n",
        "        * (preds - labels) ** 2\n",
        "        + (1 - p_t) ** gamma * preds * (1 - preds)\n",
        "    )\n",
        "    return grad, hess"
      ],
      "metadata": {
        "id": "cpklZ7zGp24C"
      },
      "execution_count": 84,
      "outputs": []
    },
    {
      "cell_type": "code",
      "source": [
        "bst = xgb.train(params, dtrain, num_boost_round=50, obj=focal_loss_obj)"
      ],
      "metadata": {
        "id": "j_P678CQqDAW"
      },
      "execution_count": 85,
      "outputs": []
    },
    {
      "cell_type": "code",
      "source": [
        "preds = bst.predict(dtest)\n",
        "pred_labels = (preds > 0.5).astype(int)\n",
        "\n",
        "acc = accuracy_score(y_test, pred_labels)\n",
        "print(f\"Test accuracy with focal loss: {acc:.4f}\")"
      ],
      "metadata": {
        "colab": {
          "base_uri": "https://localhost:8080/"
        },
        "id": "f_61VYUoqF7n",
        "outputId": "67d7cd6e-6bb8-4268-9bd1-26d301e0cb76"
      },
      "execution_count": 86,
      "outputs": [
        {
          "output_type": "stream",
          "name": "stdout",
          "text": [
            "Test accuracy with focal loss: 0.3000\n"
          ]
        }
      ]
    },
    {
      "cell_type": "code",
      "source": [
        "print(\"Train label distribution:\\n\", y_train.value_counts(normalize=True))\n",
        "print(\"Test label distribution:\\n\", y_test.value_counts(normalize=True))"
      ],
      "metadata": {
        "colab": {
          "base_uri": "https://localhost:8080/"
        },
        "id": "Su3x-in8qUbN",
        "outputId": "81a40041-0d23-4dee-cda8-4486d43f0fd5"
      },
      "execution_count": 87,
      "outputs": [
        {
          "output_type": "stream",
          "name": "stdout",
          "text": [
            "Train label distribution:\n",
            " will_return\n",
            "1    0.690625\n",
            "0    0.309375\n",
            "Name: proportion, dtype: float64\n",
            "Test label distribution:\n",
            " will_return\n",
            "1    0.7\n",
            "0    0.3\n",
            "Name: proportion, dtype: float64\n"
          ]
        }
      ]
    },
    {
      "cell_type": "code",
      "source": [
        "print(X_train.dtypes)\n"
      ],
      "metadata": {
        "colab": {
          "base_uri": "https://localhost:8080/"
        },
        "id": "pR-DEXvGqXX3",
        "outputId": "9c2049da-f4aa-4266-a8e0-4dfb19b00b16"
      },
      "execution_count": 88,
      "outputs": [
        {
          "output_type": "stream",
          "name": "stdout",
          "text": [
            "day_of_visit               int64\n",
            "age_group                  int64\n",
            "gender                     int64\n",
            "occupation                 int64\n",
            "distance_from_futsal       int64\n",
            "player_level               int64\n",
            "day_of_week                int64\n",
            "days_until_next_visit    float64\n",
            "dtype: object\n"
          ]
        }
      ]
    },
    {
      "cell_type": "code",
      "source": [
        "for col in X_train.select_dtypes(include=['object']).columns:\n",
        "    X_train[col] = X_train[col].astype('category')\n",
        "    X_test[col] = X_test[col].astype('category')\n"
      ],
      "metadata": {
        "id": "1NCf3V8wqao8"
      },
      "execution_count": 89,
      "outputs": []
    },
    {
      "cell_type": "code",
      "source": [
        "dtrain = xgb.DMatrix(X_train, label=y_train, enable_categorical=True)\n",
        "dtest = xgb.DMatrix(X_test, label=y_test, enable_categorical=True)"
      ],
      "metadata": {
        "id": "KsQuUZsGqc5_"
      },
      "execution_count": 90,
      "outputs": []
    },
    {
      "cell_type": "code",
      "source": [
        "import pandas as pd\n",
        "import numpy as np\n",
        "from sklearn.model_selection import train_test_split\n",
        "from sklearn.linear_model import LogisticRegression\n",
        "from sklearn.impute import SimpleImputer\n",
        "from sklearn.metrics import accuracy_score, classification_report\n",
        "import xgboost as xgb\n",
        "import matplotlib.pyplot as plt\n",
        "\n",
        "# --- Your DataFrame (replace with actual data loading) ---\n",
        "# df = pd.read_csv('your_data.csv')\n",
        "\n",
        "# Check columns and dtypes\n",
        "print(\"Columns in DataFrame:\", df.columns)\n",
        "print(\"Feature dtypes:\\n\", df.dtypes)\n",
        "\n",
        "target_col = 'will_return'\n",
        "if target_col not in df.columns:\n",
        "    raise ValueError(f\"Target column '{target_col}' not found.\")\n",
        "\n",
        "X = df.drop(columns=[target_col])\n",
        "y = df[target_col]\n",
        "\n",
        "print(\"\\nTrain label distribution:\\n\", y.value_counts(normalize=True))\n",
        "\n",
        "# --- Handle missing values in features ---\n",
        "imputer = SimpleImputer(strategy='median')\n",
        "X_imputed = pd.DataFrame(imputer.fit_transform(X), columns=X.columns)\n",
        "\n",
        "# --- Train-test split stratified ---\n",
        "X_train, X_test, y_train, y_test = train_test_split(\n",
        "    X_imputed, y, test_size=0.2, random_state=42, stratify=y\n",
        ")\n",
        "\n",
        "# Verify no overlap between train/test\n",
        "common = pd.merge(\n",
        "    X_train.reset_index(),\n",
        "    X_test.reset_index(),\n",
        "    how='inner'\n",
        ")\n",
        "print(f\"\\nNumber of overlapping rows between train and test: {len(common)}\")\n",
        "\n",
        "# --- Logistic Regression baseline ---\n",
        "logreg = LogisticRegression(max_iter=1000, random_state=42)\n",
        "logreg.fit(X_train, y_train)\n",
        "\n",
        "y_pred_logreg = logreg.predict(X_test)\n",
        "print(\"\\nLogistic Regression Test Accuracy:\", accuracy_score(y_test, y_pred_logreg))\n",
        "print(\"\\nClassification report:\\n\", classification_report(y_test, y_pred_logreg))\n",
        "\n",
        "# --- XGBoost training ---\n",
        "dtrain = xgb.DMatrix(X_train, label=y_train)\n",
        "dtest = xgb.DMatrix(X_test, label=y_test)\n",
        "\n",
        "params = {\n",
        "    \"objective\": \"binary:logistic\",\n",
        "    \"eval_metric\": \"logloss\",\n",
        "    \"seed\": 42\n",
        "}\n",
        "\n",
        "bst = xgb.train(params, dtrain, num_boost_round=100)\n",
        "\n",
        "# Predict and evaluate\n",
        "y_pred_proba = bst.predict(dtest)\n",
        "y_pred = (y_pred_proba > 0.5).astype(int)\n",
        "\n",
        "print(\"\\nXGBoost Test Accuracy:\", accuracy_score(y_test, y_pred))\n",
        "print(\"\\nClassification report:\\n\", classification_report(y_test, y_pred))\n",
        "\n",
        "# --- Feature importance plot ---\n",
        "xgb.plot_importance(bst)\n",
        "plt.title(\"XGBoost Feature Importance\")\n",
        "plt.show()\n"
      ],
      "metadata": {
        "colab": {
          "base_uri": "https://localhost:8080/",
          "height": 1000
        },
        "id": "ZWJf6PhpqfSJ",
        "outputId": "96fa7da4-1a22-4763-d179-0ca3e04f52ea"
      },
      "execution_count": 94,
      "outputs": [
        {
          "output_type": "stream",
          "name": "stdout",
          "text": [
            "Columns in DataFrame: Index(['day_of_visit', 'age_group', 'gender', 'occupation',\n",
            "       'distance_from_futsal', 'player_level', 'day_of_week', 'will_return',\n",
            "       'days_until_next_visit'],\n",
            "      dtype='object')\n",
            "Feature dtypes:\n",
            " day_of_visit               int64\n",
            "age_group                  int64\n",
            "gender                     int64\n",
            "occupation                 int64\n",
            "distance_from_futsal       int64\n",
            "player_level               int64\n",
            "day_of_week                int64\n",
            "will_return                int64\n",
            "days_until_next_visit    float64\n",
            "dtype: object\n",
            "\n",
            "Train label distribution:\n",
            " will_return\n",
            "1    0.6925\n",
            "0    0.3075\n",
            "Name: proportion, dtype: float64\n",
            "\n",
            "Number of overlapping rows between train and test: 0\n",
            "\n",
            "Logistic Regression Test Accuracy: 0.6925\n"
          ]
        },
        {
          "output_type": "stream",
          "name": "stderr",
          "text": [
            "/usr/local/lib/python3.11/dist-packages/sklearn/metrics/_classification.py:1565: UndefinedMetricWarning: Precision is ill-defined and being set to 0.0 in labels with no predicted samples. Use `zero_division` parameter to control this behavior.\n",
            "  _warn_prf(average, modifier, f\"{metric.capitalize()} is\", len(result))\n",
            "/usr/local/lib/python3.11/dist-packages/sklearn/metrics/_classification.py:1565: UndefinedMetricWarning: Precision is ill-defined and being set to 0.0 in labels with no predicted samples. Use `zero_division` parameter to control this behavior.\n",
            "  _warn_prf(average, modifier, f\"{metric.capitalize()} is\", len(result))\n",
            "/usr/local/lib/python3.11/dist-packages/sklearn/metrics/_classification.py:1565: UndefinedMetricWarning: Precision is ill-defined and being set to 0.0 in labels with no predicted samples. Use `zero_division` parameter to control this behavior.\n",
            "  _warn_prf(average, modifier, f\"{metric.capitalize()} is\", len(result))\n"
          ]
        },
        {
          "output_type": "stream",
          "name": "stdout",
          "text": [
            "\n",
            "Classification report:\n",
            "               precision    recall  f1-score   support\n",
            "\n",
            "           0       0.00      0.00      0.00       123\n",
            "           1       0.69      1.00      0.82       277\n",
            "\n",
            "    accuracy                           0.69       400\n",
            "   macro avg       0.35      0.50      0.41       400\n",
            "weighted avg       0.48      0.69      0.57       400\n",
            "\n",
            "\n",
            "XGBoost Test Accuracy: 0.975\n",
            "\n",
            "Classification report:\n",
            "               precision    recall  f1-score   support\n",
            "\n",
            "           0       0.94      0.98      0.96       123\n",
            "           1       0.99      0.97      0.98       277\n",
            "\n",
            "    accuracy                           0.97       400\n",
            "   macro avg       0.97      0.98      0.97       400\n",
            "weighted avg       0.98      0.97      0.98       400\n",
            "\n"
          ]
        },
        {
          "output_type": "display_data",
          "data": {
            "text/plain": [
              "<Figure size 640x480 with 1 Axes>"
            ],
            "image/png": "[encoded data removed]"
          },
          "metadata": {}
        }
      ]
    },
    {
      "cell_type": "code",
      "source": [
        "import pandas as pd\n",
        "import numpy as np\n",
        "from sklearn.pipeline import Pipeline\n",
        "from sklearn.impute import SimpleImputer\n",
        "from sklearn.linear_model import LogisticRegression\n",
        "from sklearn.model_selection import train_test_split\n",
        "from sklearn.metrics import classification_report\n",
        "\n",
        "# Assuming df is your dataframe loaded before this\n",
        "\n",
        "target_col = 'will_return'\n",
        "if target_col not in df.columns:\n",
        "    raise ValueError(f\"Target column '{target_col}' not found.\")\n",
        "\n",
        "X = df.drop(columns=[target_col])\n",
        "y = df[target_col]\n",
        "\n",
        "print(\"Label distribution:\\n\", y.value_counts(normalize=True))\n",
        "print(\"Feature data types:\\n\", X.dtypes)\n",
        "\n",
        "# Split data stratified by target\n",
        "X_train, X_test, y_train, y_test = train_test_split(\n",
        "    X, y, test_size=0.2, random_state=42, stratify=y\n",
        ")\n",
        "\n",
        "# Build pipeline: imputer + logistic regression\n",
        "clf_pipe = Pipeline([\n",
        "    ('imputer', SimpleImputer(strategy='median')),\n",
        "    ('logreg', LogisticRegression(max_iter=1000, random_state=42))\n",
        "])\n",
        "\n",
        "# Train model\n",
        "clf_pipe.fit(X_train, y_train)\n",
        "\n",
        "# Evaluate model\n",
        "accuracy = clf_pipe.score(X_test, y_test)\n",
        "print(f\"Test accuracy: {accuracy:.4f}\")\n",
        "\n",
        "# Detailed classification report\n",
        "y_pred = clf_pipe.predict(X_test)\n",
        "print(\"\\nClassification report:\\n\", classification_report(y_test, y_pred))\n"
      ],
      "metadata": {
        "colab": {
          "base_uri": "https://localhost:8080/"
        },
        "id": "-FDUUlTBrCRi",
        "outputId": "d657f651-e9d9-419a-e825-c35b3fcc909d"
      },
      "execution_count": 95,
      "outputs": [
        {
          "output_type": "stream",
          "name": "stdout",
          "text": [
            "Label distribution:\n",
            " will_return\n",
            "1    0.6925\n",
            "0    0.3075\n",
            "Name: proportion, dtype: float64\n",
            "Feature data types:\n",
            " day_of_visit               int64\n",
            "age_group                  int64\n",
            "gender                     int64\n",
            "occupation                 int64\n",
            "distance_from_futsal       int64\n",
            "player_level               int64\n",
            "day_of_week                int64\n",
            "days_until_next_visit    float64\n",
            "dtype: object\n",
            "Test accuracy: 0.6925\n",
            "\n",
            "Classification report:\n",
            "               precision    recall  f1-score   support\n",
            "\n",
            "           0       0.00      0.00      0.00       123\n",
            "           1       0.69      1.00      0.82       277\n",
            "\n",
            "    accuracy                           0.69       400\n",
            "   macro avg       0.35      0.50      0.41       400\n",
            "weighted avg       0.48      0.69      0.57       400\n",
            "\n"
          ]
        },
        {
          "output_type": "stream",
          "name": "stderr",
          "text": [
            "/usr/local/lib/python3.11/dist-packages/sklearn/metrics/_classification.py:1565: UndefinedMetricWarning: Precision is ill-defined and being set to 0.0 in labels with no predicted samples. Use `zero_division` parameter to control this behavior.\n",
            "  _warn_prf(average, modifier, f\"{metric.capitalize()} is\", len(result))\n",
            "/usr/local/lib/python3.11/dist-packages/sklearn/metrics/_classification.py:1565: UndefinedMetricWarning: Precision is ill-defined and being set to 0.0 in labels with no predicted samples. Use `zero_division` parameter to control this behavior.\n",
            "  _warn_prf(average, modifier, f\"{metric.capitalize()} is\", len(result))\n",
            "/usr/local/lib/python3.11/dist-packages/sklearn/metrics/_classification.py:1565: UndefinedMetricWarning: Precision is ill-defined and being set to 0.0 in labels with no predicted samples. Use `zero_division` parameter to control this behavior.\n",
            "  _warn_prf(average, modifier, f\"{metric.capitalize()} is\", len(result))\n"
          ]
        }
      ]
    },
    {
      "cell_type": "code",
      "source": [
        "import pandas as pd\n",
        "import numpy as np\n",
        "from sklearn.model_selection import train_test_split\n",
        "from sklearn.impute import SimpleImputer\n",
        "from sklearn.metrics import accuracy_score, classification_report\n",
        "import xgboost as xgb\n",
        "import matplotlib.pyplot as plt\n",
        "\n",
        "# --- Assume df is already loaded ---\n",
        "target_col = 'will_return'\n",
        "if target_col not in df.columns:\n",
        "    raise ValueError(f\"Target column '{target_col}' not found.\")\n",
        "\n",
        "X = df.drop(columns=[target_col])\n",
        "y = df[target_col]\n",
        "\n",
        "print(\"\\nTrain label distribution:\\n\", y.value_counts(normalize=True))\n",
        "\n",
        "imputer = SimpleImputer(strategy='median')\n",
        "X_imputed = pd.DataFrame(imputer.fit_transform(X), columns=X.columns)\n",
        "\n",
        "X_train, X_test, y_train, y_test = train_test_split(\n",
        "    X_imputed, y, test_size=0.2, random_state=42, stratify=y\n",
        ")\n",
        "\n",
        "common = pd.merge(X_train.reset_index(), X_test.reset_index(), how='inner')\n",
        "print(f\"Number of overlapping rows between train and test: {len(common)}\")\n",
        "\n",
        "# --- Corrected simplified focal loss ---\n",
        "def focal_loss_obj(preds, dtrain):\n",
        "    alpha = 0.25\n",
        "    gamma = 2.0\n",
        "\n",
        "    labels = dtrain.get_label()\n",
        "    preds = 1.0 / (1.0 + np.exp(-preds))  # sigmoid transform\n",
        "    preds = np.clip(preds, 1e-8, 1 - 1e-8)\n",
        "\n",
        "    p_t = preds * labels + (1 - preds) * (1 - labels)\n",
        "    grad = alpha * (preds - labels) * ((1 - p_t) ** gamma)\n",
        "    hess = alpha * ((1 - p_t) ** gamma) * preds * (1 - preds) * (1 + gamma * (preds - labels) / p_t)\n",
        "    return grad, hess\n",
        "\n",
        "dtrain = xgb.DMatrix(X_train, label=y_train)\n",
        "dtest = xgb.DMatrix(X_test, label=y_test)\n",
        "\n",
        "params = {\n",
        "    'eval_metric': 'logloss',\n",
        "    'seed': 42,\n",
        "    'verbosity': 1,\n",
        "}\n",
        "\n",
        "# Train with focal loss objective\n",
        "bst = xgb.train(params, dtrain, num_boost_round=100, obj=focal_loss_obj)\n",
        "\n",
        "y_pred_prob = bst.predict(dtest)\n",
        "y_pred = (y_pred_prob > 0.5).astype(int)\n",
        "\n",
        "print(\"\\nXGBoost with Focal Loss Test Accuracy:\", accuracy_score(y_test, y_pred))\n",
        "print(\"\\nClassification report:\\n\", classification_report(y_test, y_pred))\n",
        "\n",
        "# Plot feature importance only if valid\n",
        "importance = bst.get_score(importance_type='weight')\n",
        "if importance:\n",
        "    xgb.plot_importance(bst)\n",
        "    plt.title(\"XGBoost Feature Importance (Focal Loss)\")\n",
        "    plt.show()\n",
        "else:\n",
        "    print(\"No feature importance to plot (model might not have learned).\")\n"
      ],
      "metadata": {
        "colab": {
          "base_uri": "https://localhost:8080/",
          "height": 819
        },
        "id": "_vFwy1dVr5Zk",
        "outputId": "8e43a2b2-bbd2-4b84-8d38-2f01205d07cd"
      },
      "execution_count": 97,
      "outputs": [
        {
          "output_type": "stream",
          "name": "stdout",
          "text": [
            "\n",
            "Train label distribution:\n",
            " will_return\n",
            "1    0.6925\n",
            "0    0.3075\n",
            "Name: proportion, dtype: float64\n",
            "Number of overlapping rows between train and test: 0\n",
            "\n",
            "XGBoost with Focal Loss Test Accuracy: 0.44\n",
            "\n",
            "Classification report:\n",
            "               precision    recall  f1-score   support\n",
            "\n",
            "           0       0.30      0.62      0.40       123\n",
            "           1       0.68      0.36      0.47       277\n",
            "\n",
            "    accuracy                           0.44       400\n",
            "   macro avg       0.49      0.49      0.44       400\n",
            "weighted avg       0.56      0.44      0.45       400\n",
            "\n"
          ]
        },
        {
          "output_type": "display_data",
          "data": {
            "text/plain": [
              "<Figure size 640x480 with 1 Axes>"
            ],
            "image/png": "[encoded data removed]"
          },
          "metadata": {}
        }
      ]
    },
    {
      "cell_type": "code",
      "source": [
        "!pip install category_encoders"
      ],
      "metadata": {
        "colab": {
          "base_uri": "https://localhost:8080/"
        },
        "id": "BrDIV7dLt_1w",
        "outputId": "b442b0fd-fd1f-47e3-f70b-6f98d86350ca"
      },
      "execution_count": 102,
      "outputs": [
        {
          "output_type": "stream",
          "name": "stdout",
          "text": [
            "Collecting category_encoders\n",
            "  Downloading category_encoders-2.8.1-py3-none-any.whl.metadata (7.9 kB)\n",
            "Requirement already satisfied: numpy>=1.14.0 in /usr/local/lib/python3.11/dist-packages (from category_encoders) (2.0.2)\n",
            "Requirement already satisfied: pandas>=1.0.5 in /usr/local/lib/python3.11/dist-packages (from category_encoders) (2.2.2)\n",
            "Requirement already satisfied: patsy>=0.5.1 in /usr/local/lib/python3.11/dist-packages (from category_encoders) (1.0.1)\n",
            "Requirement already satisfied: scikit-learn>=1.6.0 in /usr/local/lib/python3.11/dist-packages (from category_encoders) (1.6.1)\n",
            "Requirement already satisfied: scipy>=1.0.0 in /usr/local/lib/python3.11/dist-packages (from category_encoders) (1.15.3)\n",
            "Requirement already satisfied: statsmodels>=0.9.0 in /usr/local/lib/python3.11/dist-packages (from category_encoders) (0.14.4)\n",
            "Requirement already satisfied: python-dateutil>=2.8.2 in /usr/local/lib/python3.11/dist-packages (from pandas>=1.0.5->category_encoders) (2.9.0.post0)\n",
            "Requirement already satisfied: pytz>=2020.1 in /usr/local/lib/python3.11/dist-packages (from pandas>=1.0.5->category_encoders) (2025.2)\n",
            "Requirement already satisfied: tzdata>=2022.7 in /usr/local/lib/python3.11/dist-packages (from pandas>=1.0.5->category_encoders) (2025.2)\n",
            "Requirement already satisfied: joblib>=1.2.0 in /usr/local/lib/python3.11/dist-packages (from scikit-learn>=1.6.0->category_encoders) (1.5.1)\n",
            "Requirement already satisfied: threadpoolctl>=3.1.0 in /usr/local/lib/python3.11/dist-packages (from scikit-learn>=1.6.0->category_encoders) (3.6.0)\n",
            "Requirement already satisfied: packaging>=21.3 in /usr/local/lib/python3.11/dist-packages (from statsmodels>=0.9.0->category_encoders) (24.2)\n",
            "Requirement already satisfied: six>=1.5 in /usr/local/lib/python3.11/dist-packages (from python-dateutil>=2.8.2->pandas>=1.0.5->category_encoders) (1.17.0)\n",
            "Downloading category_encoders-2.8.1-py3-none-any.whl (85 kB)\n",
            "\u001b[2K   \u001b[90m━━━━━━━━━━━━━━━━━━━━━━━━━━━━━━━━━━━━━━━━\u001b[0m \u001b[32m85.7/85.7 kB\u001b[0m \u001b[31m1.8 MB/s\u001b[0m eta \u001b[36m0:00:00\u001b[0m\n",
            "\u001b[?25hInstalling collected packages: category_encoders\n",
            "Successfully installed category_encoders-2.8.1\n"
          ]
        }
      ]
    },
    {
      "cell_type": "code",
      "source": [
        "import pandas as pd\n",
        "import numpy as np\n",
        "from sklearn.model_selection import train_test_split, StratifiedKFold, GridSearchCV\n",
        "from sklearn.pipeline import Pipeline\n",
        "from sklearn.compose import ColumnTransformer\n",
        "from sklearn.impute import SimpleImputer\n",
        "from sklearn.preprocessing import OneHotEncoder, StandardScaler\n",
        "from sklearn.linear_model import LogisticRegression\n",
        "from sklearn.metrics import classification_report, accuracy_score, precision_recall_curve, auc\n",
        "from imblearn.pipeline import Pipeline as ImbPipeline\n",
        "from imblearn.over_sampling import SMOTE\n",
        "import xgboost as xgb\n",
        "\n",
        "# Optional: TargetEncoder fallback if category_encoders not installed\n",
        "try:\n",
        "    from category_encoders import TargetEncoder\n",
        "except ImportError:\n",
        "    TargetEncoder = None  # Will skip target encoding in this example\n",
        "\n",
        "# --- Assume df is your DataFrame already loaded ---\n",
        "\n",
        "# Feature Engineering\n",
        "df['is_weekend'] = df['day_of_visit'].isin([5, 6]).astype(int)\n",
        "df['log_distance'] = np.log1p(df['distance_from_futsal'])\n",
        "\n",
        "# Group rare age groups example (adjust as needed)\n",
        "df['age_group'] = df['age_group'].replace({4: 3, 5: 3})\n",
        "\n",
        "# Define features and target\n",
        "target = 'will_return'\n",
        "X = df.drop(columns=[target])\n",
        "y = df[target]\n",
        "\n",
        "# Split with stratification\n",
        "X_train, X_test, y_train, y_test = train_test_split(\n",
        "    X, y, test_size=0.2, random_state=42, stratify=y\n",
        ")\n",
        "\n",
        "# Separate columns\n",
        "numeric_features = ['log_distance', 'days_until_next_visit', 'age_group']\n",
        "categorical_features = ['day_of_visit', 'gender', 'is_weekend']\n",
        "\n",
        "# Column transformer for numeric and categorical\n",
        "numeric_transformer = Pipeline([\n",
        "    ('imputer', SimpleImputer(strategy='median')),\n",
        "    ('scaler', StandardScaler())\n",
        "])\n",
        "\n",
        "categorical_transformer = Pipeline([\n",
        "    ('imputer', SimpleImputer(strategy='constant', fill_value=-1)),\n",
        "    ('onehot', OneHotEncoder(handle_unknown='ignore'))\n",
        "])\n",
        "\n",
        "transformers = [\n",
        "    ('num', numeric_transformer, numeric_features),\n",
        "    ('cat', categorical_transformer, categorical_features)\n",
        "]\n",
        "\n",
        "# If TargetEncoder is available, add target encoding pipeline for high-cardinality features\n",
        "high_card_features = ['occupation', 'player_level']\n",
        "if TargetEncoder is not None:\n",
        "    # We will encode these separately and concatenate after ColumnTransformer\n",
        "    pass\n",
        "else:\n",
        "    # Fallback: one-hot encode as categorical or drop (here we'll just drop for simplicity)\n",
        "    high_card_features = []\n",
        "\n",
        "preprocessor = ColumnTransformer(transformers=transformers, remainder='drop')\n",
        "\n",
        "# Create full pipeline with SMOTE and XGBClassifier\n",
        "# Calculate scale_pos_weight for imbalance\n",
        "scale_pos_weight = y_train.value_counts()[0] / y_train.value_counts()[1]\n",
        "\n",
        "model_pipeline = ImbPipeline([\n",
        "    ('preprocessor', preprocessor),\n",
        "    ('smote', SMOTE(sampling_strategy=0.5, random_state=42)),\n",
        "    ('classifier', xgb.XGBClassifier(\n",
        "        objective='binary:logistic',\n",
        "        scale_pos_weight=scale_pos_weight,\n",
        "        eval_metric='aucpr',\n",
        "        use_label_encoder=False,\n",
        "        random_state=42,\n",
        "        n_jobs=-1\n",
        "    ))\n",
        "])\n",
        "\n",
        "# Optional: Hyperparameter tuning with cross-validation\n",
        "param_grid = {\n",
        "    'classifier__max_depth': [3, 5],\n",
        "    'classifier__learning_rate': [0.1, 0.01],\n",
        "    'classifier__n_estimators': [100, 200]\n",
        "}\n",
        "\n",
        "cv = StratifiedKFold(n_splits=5, shuffle=True, random_state=42)\n",
        "\n",
        "grid_search = GridSearchCV(\n",
        "    model_pipeline,\n",
        "    param_grid,\n",
        "    scoring='average_precision',  # PR AUC\n",
        "    cv=cv,\n",
        "    verbose=1,\n",
        "    n_jobs=-1\n",
        ")\n",
        "\n",
        "# Fit model\n",
        "grid_search.fit(X_train, y_train)\n",
        "\n",
        "# Best params\n",
        "print(\"Best params:\", grid_search.best_params_)\n",
        "\n",
        "# Predict and evaluate\n",
        "y_pred = grid_search.predict(X_test)\n",
        "y_proba = grid_search.predict_proba(X_test)[:, 1]\n",
        "\n",
        "print(\"Test Accuracy:\", accuracy_score(y_test, y_pred))\n",
        "print(classification_report(y_test, y_pred))\n",
        "\n",
        "# Calculate precision-recall AUC\n",
        "precision, recall, _ = precision_recall_curve(y_test, y_proba)\n",
        "pr_auc = auc(recall, precision)\n",
        "print(f\"Precision-Recall AUC: {pr_auc:.4f}\")\n"
      ],
      "metadata": {
        "colab": {
          "base_uri": "https://localhost:8080/"
        },
        "id": "MnjAXTJ6t5Ma",
        "outputId": "112133a8-44d9-4598-b0fe-ba1d7f7a9d1d"
      },
      "execution_count": 105,
      "outputs": [
        {
          "output_type": "stream",
          "name": "stdout",
          "text": [
            "Fitting 5 folds for each of 8 candidates, totalling 40 fits\n"
          ]
        },
        {
          "output_type": "stream",
          "name": "stderr",
          "text": [
            "/usr/local/lib/python3.11/dist-packages/xgboost/core.py:158: UserWarning: [08:48:08] WARNING: /workspace/src/learner.cc:740: \n",
            "Parameters: { \"use_label_encoder\" } are not used.\n",
            "\n",
            "  warnings.warn(smsg, UserWarning)\n"
          ]
        },
        {
          "output_type": "stream",
          "name": "stdout",
          "text": [
            "Best params: {'classifier__learning_rate': 0.1, 'classifier__max_depth': 5, 'classifier__n_estimators': 200}\n",
            "Test Accuracy: 0.9825\n",
            "              precision    recall  f1-score   support\n",
            "\n",
            "           0       0.95      1.00      0.97       123\n",
            "           1       1.00      0.97      0.99       277\n",
            "\n",
            "    accuracy                           0.98       400\n",
            "   macro avg       0.97      0.99      0.98       400\n",
            "weighted avg       0.98      0.98      0.98       400\n",
            "\n",
            "Precision-Recall AUC: 0.9960\n"
          ]
        }
      ]
    },
    {
      "cell_type": "code",
      "source": [
        "import pandas as pd\n",
        "import numpy as np\n",
        "from sklearn.model_selection import train_test_split, StratifiedKFold, cross_val_score\n",
        "from sklearn.pipeline import Pipeline\n",
        "from sklearn.compose import ColumnTransformer\n",
        "from sklearn.impute import SimpleImputer\n",
        "from sklearn.preprocessing import StandardScaler, OneHotEncoder\n",
        "from imblearn.over_sampling import SMOTE\n",
        "from xgboost import XGBClassifier\n",
        "from sklearn.metrics import classification_report, precision_recall_curve, auc\n",
        "import matplotlib.pyplot as plt\n",
        "import seaborn as sns\n",
        "from category_encoders import TargetEncoder\n",
        "\n",
        "# --- Load your data ---\n",
        "# df = pd.read_csv('your_data.csv')\n",
        "\n",
        "# Feature engineering\n",
        "df['is_weekend'] = df['day_of_visit'].isin([5,6]).astype(int)\n",
        "df['day_sin'] = np.sin(2*np.pi*df['day_of_visit']/7)\n",
        "df['age_group'] = df['age_group'].replace({4:3,5:3})\n",
        "df['log_distance'] = np.log1p(df['distance_from_futsal'])\n",
        "\n",
        "# Define features and target\n",
        "target = 'will_return'\n",
        "X = df.drop(columns=[target])\n",
        "y = df[target]\n",
        "\n",
        "# Train-test split with stratification\n",
        "X_train, X_test, y_train, y_test = train_test_split(X, y, stratify=y, random_state=42, test_size=0.2)\n",
        "\n",
        "# Column selectors\n",
        "num_features = ['log_distance']\n",
        "cat_features = ['gender', 'day_of_visit', 'is_weekend']\n",
        "target_enc_features = ['occupation', 'player_level']\n",
        "\n",
        "# Preprocessing pipelines\n",
        "num_pipeline = Pipeline([('imputer', SimpleImputer(strategy='median')), ('scaler', StandardScaler())])\n",
        "cat_pipeline = Pipeline([('imputer', SimpleImputer(strategy='constant', fill_value=-1)), ('onehot', OneHotEncoder(handle_unknown='ignore'))])\n",
        "target_enc = TargetEncoder(cols=target_enc_features)\n",
        "\n",
        "preprocessor = ColumnTransformer([\n",
        "    ('num', num_pipeline, num_features),\n",
        "    ('cat', cat_pipeline, cat_features)\n",
        "], remainder='drop')\n",
        "\n",
        "# Preprocess training data\n",
        "X_train_num_cat = preprocessor.fit_transform(X_train)\n",
        "X_train_target_enc = target_enc.fit_transform(X_train[target_enc_features], y_train)\n",
        "X_train_prepared = np.hstack([X_train_num_cat, X_train_target_enc])\n",
        "\n",
        "# Preprocess test data\n",
        "X_test_num_cat = preprocessor.transform(X_test)\n",
        "X_test_target_enc = target_enc.transform(X_test[target_enc_features])\n",
        "X_test_prepared = np.hstack([X_test_num_cat, X_test_target_enc])\n",
        "\n",
        "# Handle imbalance with SMOTE\n",
        "smote = SMOTE(random_state=42)\n",
        "X_train_bal, y_train_bal = smote.fit_resample(X_train_prepared, y_train)\n",
        "\n",
        "# Train XGBoost with scale_pos_weight (class weighting)\n",
        "scale_pos_weight = y_train.value_counts()[0] / y_train.value_counts()[1]\n",
        "clf = XGBClassifier(scale_pos_weight=scale_pos_weight, use_label_encoder=False, eval_metric='logloss', random_state=42)\n",
        "clf.fit(X_train_bal, y_train_bal)\n",
        "\n",
        "# Predict and evaluate\n",
        "y_pred = clf.predict(X_test_prepared)\n",
        "print(classification_report(y_test, y_pred))\n",
        "\n",
        "# Precision-Recall curve\n",
        "y_scores = clf.predict_proba(X_test_prepared)[:,1]\n",
        "precision, recall, _ = precision_recall_curve(y_test, y_scores)\n",
        "pr_auc = auc(recall, precision)\n",
        "\n",
        "plt.figure(figsize=(8,6))\n",
        "sns.lineplot(x=recall, y=precision)\n",
        "plt.xlabel('Recall')\n",
        "plt.ylabel('Precision')\n",
        "plt.title(f'Precision-Recall Curve (AUC = {pr_auc:.3f})')\n",
        "plt.show()\n"
      ],
      "metadata": {
        "colab": {
          "base_uri": "https://localhost:8080/",
          "height": 790
        },
        "id": "bVs7x3SXu6CX",
        "outputId": "cc3070ab-14c1-4112-d554-c5ba2a7efe13"
      },
      "execution_count": 106,
      "outputs": [
        {
          "output_type": "stream",
          "name": "stderr",
          "text": [
            "/usr/local/lib/python3.11/dist-packages/xgboost/core.py:158: UserWarning: [08:51:06] WARNING: /workspace/src/learner.cc:740: \n",
            "Parameters: { \"use_label_encoder\" } are not used.\n",
            "\n",
            "  warnings.warn(smsg, UserWarning)\n"
          ]
        },
        {
          "output_type": "stream",
          "name": "stdout",
          "text": [
            "              precision    recall  f1-score   support\n",
            "\n",
            "           0       0.29      0.37      0.33       123\n",
            "           1       0.68      0.59      0.63       277\n",
            "\n",
            "    accuracy                           0.53       400\n",
            "   macro avg       0.48      0.48      0.48       400\n",
            "weighted avg       0.56      0.53      0.54       400\n",
            "\n"
          ]
        },
        {
          "output_type": "display_data",
          "data": {
            "text/plain": [
              "<Figure size 800x600 with 1 Axes>"
            ],
            "image/png": "[encoded data removed]"
          },
          "metadata": {}
        }
      ]
    },
    {
      "cell_type": "markdown",
      "source": [
        "Try focal loss with adjusted parameters\n",
        "Verify with 10-fold cross-validation\n",
        " Compare to dummy classifier\n",
        " dds recommended feature engineering: weekend flags, cyclic encoding, log distance\n",
        "\n",
        "Handles imbalance with class weighting (scale_pos_weight) and focal loss (you can plug that in by customizing XGBoost’s objective if you want)\n",
        "\n",
        "Finds the best threshold on PR curve to maximize F1 score\n",
        "\n",
        "Evaluates with classification report & average precision (PR AUC)\n",
        "\n",
        "Visualizes precision-recall curve with optimal threshold\n",
        "\n",
        "Runs 10-fold CV for stable performance estimate\n",
        "\n",
        "Compares to a dummy baseline classifier"
      ],
      "metadata": {
        "id": "H67YxUi_vW1-"
      }
    },
    {
      "cell_type": "code",
      "source": [
        "import pandas as pd\n",
        "import numpy as np\n",
        "from sklearn.model_selection import train_test_split, cross_val_score\n",
        "from sklearn.pipeline import Pipeline\n",
        "from sklearn.compose import ColumnTransformer\n",
        "from sklearn.impute import SimpleImputer\n",
        "from sklearn.preprocessing import OneHotEncoder, StandardScaler\n",
        "from sklearn.metrics import precision_recall_curve, classification_report, average_precision_score\n",
        "from sklearn.dummy import DummyClassifier\n",
        "from imblearn.over_sampling import SMOTE\n",
        "from xgboost import XGBClassifier, DMatrix\n",
        "import category_encoders as ce\n",
        "import matplotlib.pyplot as plt\n",
        "\n",
        "# --- Focal loss objective for XGBoost ---\n",
        "def focal_loss_obj(alpha=0.3, gamma=1.5):\n",
        "    def loss(preds, dtrain):\n",
        "        labels = dtrain.get_label()\n",
        "        preds = 1.0 / (1.0 + np.exp(-preds))  # sigmoid\n",
        "        preds = np.clip(preds, 1e-8, 1 - 1e-8)\n",
        "        p_t = preds * labels + (1 - preds) * (1 - labels)\n",
        "        grad = alpha * ((preds - labels) * (gamma * (1 - p_t) ** (gamma - 1) * np.log(p_t) + (1 - p_t) ** gamma))\n",
        "        hess = alpha * (\n",
        "            (gamma * (gamma - 1) * (1 - p_t) ** (gamma - 2) * p_t * np.log(p_t) +\n",
        "             (1 - p_t) ** (gamma - 1) * (1 - 2 * p_t) -\n",
        "             gamma * (1 - p_t) ** (gamma - 1)) * (preds - labels) ** 2 +\n",
        "            (1 - p_t) ** gamma * preds * (1 - preds)\n",
        "        )\n",
        "        return grad, hess\n",
        "    return loss\n",
        "\n",
        "# --- Load your dataframe ---\n",
        "# df = pd.read_csv('your_data.csv')\n",
        "# For demonstration, assume df is already loaded\n",
        "\n",
        "target_col = 'will_return'\n",
        "\n",
        "# Feature Engineering\n",
        "df['is_weekend'] = df['day_of_visit'].isin([5,6]).astype(int)  # weekend indicator (assuming 0=Mon,...6=Sun)\n",
        "df['day_sin'] = np.sin(2 * np.pi * df['day_of_visit'] / 7)     # cyclic encoding for day_of_visit\n",
        "df['log_distance'] = np.log1p(df['distance_from_futsal'])      # log transform distance\n",
        "\n",
        "# Group rare age groups (example)\n",
        "df['age_group'] = df['age_group'].replace({4:3, 5:3})\n",
        "\n",
        "# Define features\n",
        "X = df.drop(columns=[target_col])\n",
        "y = df[target_col]\n",
        "\n",
        "# Split stratified\n",
        "X_train, X_test, y_train, y_test = train_test_split(\n",
        "    X, y, test_size=0.2, random_state=42, stratify=y\n",
        ")\n",
        "\n",
        "# Preprocessing pipelines\n",
        "num_features = ['log_distance']\n",
        "cat_features = ['gender', 'day_of_week', 'is_weekend']\n",
        "target_enc_features = ['occupation', 'player_level']\n",
        "\n",
        "num_pipeline = Pipeline([\n",
        "    ('imputer', SimpleImputer(strategy='median')),\n",
        "    ('scaler', StandardScaler())\n",
        "])\n",
        "\n",
        "cat_pipeline = Pipeline([\n",
        "    ('imputer', SimpleImputer(strategy='constant', fill_value=-1)),\n",
        "    ('onehot', OneHotEncoder(handle_unknown='ignore'))\n",
        "])\n",
        "\n",
        "preprocessor = ColumnTransformer([\n",
        "    ('num', num_pipeline, num_features),\n",
        "    ('cat', cat_pipeline, cat_features),\n",
        "    ('target_enc', ce.TargetEncoder(), target_enc_features)\n",
        "])\n",
        "\n",
        "# Prepare data\n",
        "X_train_prepared = preprocessor.fit_transform(X_train, y_train)\n",
        "X_test_prepared = preprocessor.transform(X_test)\n",
        "\n",
        "# Define model with focal loss and scale_pos_weight (balance classes)\n",
        "scale_pos_weight = (y_train == 0).sum() / (y_train == 1).sum()\n",
        "\n",
        "model = XGBClassifier(\n",
        "    objective='binary:logistic',\n",
        "    eval_metric='aucpr',\n",
        "    scale_pos_weight=scale_pos_weight,\n",
        "    use_label_encoder=False,\n",
        "    n_estimators=100,\n",
        "    random_state=42\n",
        ")\n",
        "\n",
        "# Fit model\n",
        "model.fit(X_train_prepared, y_train)\n",
        "\n",
        "# Predict probabilities\n",
        "y_scores = model.predict_proba(X_test_prepared)[:, 1]\n",
        "\n",
        "# Threshold tuning with precision-recall curve\n",
        "precisions, recalls, thresholds = precision_recall_curve(y_test, y_scores)\n",
        "f1_scores = 2 * (precisions * recalls) / (precisions + recalls + 1e-8)\n",
        "optimal_idx = np.argmax(f1_scores)\n",
        "optimal_threshold = thresholds[optimal_idx]\n",
        "\n",
        "print(f\"Optimal classification threshold: {optimal_threshold:.3f}\")\n",
        "\n",
        "# Apply threshold\n",
        "y_pred_opt = (y_scores >= optimal_threshold).astype(int)\n",
        "\n",
        "# Metrics\n",
        "print(\"Classification report at optimal threshold:\\n\", classification_report(y_test, y_pred_opt))\n",
        "print(f\"Average precision (PR AUC): {average_precision_score(y_test, y_scores):.3f}\")\n",
        "\n",
        "# Plot Precision-Recall Curve\n",
        "plt.figure(figsize=(8,6))\n",
        "plt.plot(recalls, precisions, label='PR Curve')\n",
        "plt.scatter(recalls[optimal_idx], precisions[optimal_idx], marker='o', color='red', label='Optimal Threshold')\n",
        "plt.xlabel('Recall')\n",
        "plt.ylabel('Precision')\n",
        "plt.title('Precision-Recall Curve')\n",
        "plt.legend()\n",
        "plt.show()\n",
        "\n",
        "# Cross-validation (average precision)\n",
        "from sklearn.model_selection import cross_val_score\n",
        "cv_scores = cross_val_score(model, preprocessor.fit_transform(X, y), y, cv=10, scoring='average_precision')\n",
        "print(f\"10-fold cross-validated Average Precision: {np.mean(cv_scores):.3f} ± {np.std(cv_scores):.3f}\")\n",
        "\n",
        "# Dummy baseline\n",
        "dummy = DummyClassifier(strategy='stratified')\n",
        "dummy.fit(X_train_prepared, y_train)\n",
        "dummy_scores = dummy.predict_proba(X_test_prepared)[:,1]\n",
        "print(f\"Dummy classifier average precision: {average_precision_score(y_test, dummy_scores):.3f}\")\n"
      ],
      "metadata": {
        "colab": {
          "base_uri": "https://localhost:8080/",
          "height": 1000
        },
        "id": "j7GToUX8vYdZ",
        "outputId": "9255281b-bd40-4a1e-e5e4-22eafad22717"
      },
      "execution_count": 107,
      "outputs": [
        {
          "output_type": "stream",
          "name": "stdout",
          "text": [
            "Warning: No categorical columns found. Calling 'transform' will only return input data.\n"
          ]
        },
        {
          "output_type": "stream",
          "name": "stderr",
          "text": [
            "/usr/local/lib/python3.11/dist-packages/xgboost/core.py:158: UserWarning: [08:53:25] WARNING: /workspace/src/learner.cc:740: \n",
            "Parameters: { \"use_label_encoder\" } are not used.\n",
            "\n",
            "  warnings.warn(smsg, UserWarning)\n"
          ]
        },
        {
          "output_type": "stream",
          "name": "stdout",
          "text": [
            "Optimal classification threshold: 0.049\n",
            "Classification report at optimal threshold:\n",
            "               precision    recall  f1-score   support\n",
            "\n",
            "           0       0.00      0.00      0.00       123\n",
            "           1       0.69      1.00      0.82       277\n",
            "\n",
            "    accuracy                           0.69       400\n",
            "   macro avg       0.35      0.50      0.41       400\n",
            "weighted avg       0.48      0.69      0.57       400\n",
            "\n",
            "Average precision (PR AUC): 0.704\n"
          ]
        },
        {
          "output_type": "stream",
          "name": "stderr",
          "text": [
            "/usr/local/lib/python3.11/dist-packages/sklearn/metrics/_classification.py:1565: UndefinedMetricWarning: Precision is ill-defined and being set to 0.0 in labels with no predicted samples. Use `zero_division` parameter to control this behavior.\n",
            "  _warn_prf(average, modifier, f\"{metric.capitalize()} is\", len(result))\n",
            "/usr/local/lib/python3.11/dist-packages/sklearn/metrics/_classification.py:1565: UndefinedMetricWarning: Precision is ill-defined and being set to 0.0 in labels with no predicted samples. Use `zero_division` parameter to control this behavior.\n",
            "  _warn_prf(average, modifier, f\"{metric.capitalize()} is\", len(result))\n",
            "/usr/local/lib/python3.11/dist-packages/sklearn/metrics/_classification.py:1565: UndefinedMetricWarning: Precision is ill-defined and being set to 0.0 in labels with no predicted samples. Use `zero_division` parameter to control this behavior.\n",
            "  _warn_prf(average, modifier, f\"{metric.capitalize()} is\", len(result))\n"
          ]
        },
        {
          "output_type": "display_data",
          "data": {
            "text/plain": [
              "<Figure size 800x600 with 1 Axes>"
            ],
            "image/png": "[encoded data removed]"
          },
          "metadata": {}
        },
        {
          "output_type": "stream",
          "name": "stdout",
          "text": [
            "Warning: No categorical columns found. Calling 'transform' will only return input data.\n"
          ]
        },
        {
          "output_type": "stream",
          "name": "stderr",
          "text": [
            "/usr/local/lib/python3.11/dist-packages/xgboost/core.py:158: UserWarning: [08:53:27] WARNING: /workspace/src/learner.cc:740: \n",
            "Parameters: { \"use_label_encoder\" } are not used.\n",
            "\n",
            "  warnings.warn(smsg, UserWarning)\n",
            "/usr/local/lib/python3.11/dist-packages/xgboost/core.py:158: UserWarning: [08:53:29] WARNING: /workspace/src/learner.cc:740: \n",
            "Parameters: { \"use_label_encoder\" } are not used.\n",
            "\n",
            "  warnings.warn(smsg, UserWarning)\n",
            "/usr/local/lib/python3.11/dist-packages/xgboost/core.py:158: UserWarning: [08:53:29] WARNING: /workspace/src/learner.cc:740: \n",
            "Parameters: { \"use_label_encoder\" } are not used.\n",
            "\n",
            "  warnings.warn(smsg, UserWarning)\n",
            "/usr/local/lib/python3.11/dist-packages/xgboost/core.py:158: UserWarning: [08:53:30] WARNING: /workspace/src/learner.cc:740: \n",
            "Parameters: { \"use_label_encoder\" } are not used.\n",
            "\n",
            "  warnings.warn(smsg, UserWarning)\n",
            "/usr/local/lib/python3.11/dist-packages/xgboost/core.py:158: UserWarning: [08:53:31] WARNING: /workspace/src/learner.cc:740: \n",
            "Parameters: { \"use_label_encoder\" } are not used.\n",
            "\n",
            "  warnings.warn(smsg, UserWarning)\n",
            "/usr/local/lib/python3.11/dist-packages/xgboost/core.py:158: UserWarning: [08:53:31] WARNING: /workspace/src/learner.cc:740: \n",
            "Parameters: { \"use_label_encoder\" } are not used.\n",
            "\n",
            "  warnings.warn(smsg, UserWarning)\n",
            "/usr/local/lib/python3.11/dist-packages/xgboost/core.py:158: UserWarning: [08:53:31] WARNING: /workspace/src/learner.cc:740: \n",
            "Parameters: { \"use_label_encoder\" } are not used.\n",
            "\n",
            "  warnings.warn(smsg, UserWarning)\n"
          ]
        },
        {
          "output_type": "stream",
          "name": "stdout",
          "text": [
            "10-fold cross-validated Average Precision: 0.687 ± 0.028\n",
            "Dummy classifier average precision: 0.704\n"
          ]
        },
        {
          "output_type": "stream",
          "name": "stderr",
          "text": [
            "/usr/local/lib/python3.11/dist-packages/xgboost/core.py:158: UserWarning: [08:53:31] WARNING: /workspace/src/learner.cc:740: \n",
            "Parameters: { \"use_label_encoder\" } are not used.\n",
            "\n",
            "  warnings.warn(smsg, UserWarning)\n",
            "/usr/local/lib/python3.11/dist-packages/xgboost/core.py:158: UserWarning: [08:53:31] WARNING: /workspace/src/learner.cc:740: \n",
            "Parameters: { \"use_label_encoder\" } are not used.\n",
            "\n",
            "  warnings.warn(smsg, UserWarning)\n",
            "/usr/local/lib/python3.11/dist-packages/xgboost/core.py:158: UserWarning: [08:53:31] WARNING: /workspace/src/learner.cc:740: \n",
            "Parameters: { \"use_label_encoder\" } are not used.\n",
            "\n",
            "  warnings.warn(smsg, UserWarning)\n"
          ]
        }
      ]
    },
    {
      "cell_type": "markdown",
      "source": [
        "Features engineered include weekend flags, cyclic day encoding, log-distance transform, interaction feature.\n",
        "\n",
        "Imbalance addressed via scale_pos_weight in XGBoost and is_unbalance=True in LightGBM.\n",
        "\n",
        "Threshold tuned both by F1-score and a business-driven value (0.45), helping you pick trade-offs between precision & recall aligned with your use case.\n",
        "\n",
        "Visualizes Precision-Recall curve highlighting both thresholds.\n",
        "\n",
        "5-fold cross-validation for robust metric estimation.\n",
        "\n",
        "Dummy classifier baseline for sanity check.\n",
        "\n",
        "Alternative LightGBM model to try for possibly better performance with built-in imbalance support."
      ],
      "metadata": {
        "id": "1Va6VtBlv3Ld"
      }
    },
    {
      "cell_type": "code",
      "source": [
        "import pandas as pd\n",
        "import numpy as np\n",
        "from sklearn.model_selection import train_test_split, cross_val_predict\n",
        "from sklearn.pipeline import Pipeline\n",
        "from sklearn.compose import ColumnTransformer\n",
        "from sklearn.impute import SimpleImputer\n",
        "from sklearn.preprocessing import OneHotEncoder, StandardScaler\n",
        "from sklearn.metrics import precision_recall_curve, classification_report, average_precision_score\n",
        "from sklearn.dummy import DummyClassifier\n",
        "from imblearn.over_sampling import SMOTE\n",
        "from xgboost import XGBClassifier\n",
        "import category_encoders as ce\n",
        "import matplotlib.pyplot as plt\n",
        "from lightgbm import LGBMClassifier\n",
        "\n",
        "# --- Feature Engineering ---\n",
        "df['is_weekend'] = df['day_of_visit'].isin([5,6]).astype(int)\n",
        "df['day_sin'] = np.sin(2 * np.pi * df['day_of_visit'] / 7)\n",
        "df['log_distance'] = np.log1p(df['distance_from_futsal'])\n",
        "df['interaction_feature'] = df['distance_from_futsal'] * df['player_level']\n",
        "df['age_group'] = df['age_group'].replace({4:3, 5:3})\n",
        "\n",
        "target_col = 'will_return'\n",
        "X = df.drop(columns=[target_col])\n",
        "y = df[target_col]\n",
        "\n",
        "# --- Train-Test Split (stratified to maintain imbalance ratio) ---\n",
        "X_train, X_test, y_train, y_test = train_test_split(X, y, test_size=0.2, random_state=42, stratify=y)\n",
        "\n",
        "# --- Preprocessing Pipelines ---\n",
        "num_features = ['log_distance', 'interaction_feature']\n",
        "cat_features = ['gender', 'day_of_visit', 'is_weekend']\n",
        "target_enc_features = ['occupation', 'player_level']\n",
        "\n",
        "num_pipeline = Pipeline([\n",
        "    ('imputer', SimpleImputer(strategy='median')),\n",
        "    ('scaler', StandardScaler())\n",
        "])\n",
        "\n",
        "cat_pipeline = Pipeline([\n",
        "    ('imputer', SimpleImputer(strategy='constant', fill_value=-1)),\n",
        "    ('onehot', OneHotEncoder(handle_unknown='ignore'))\n",
        "])\n",
        "\n",
        "preprocessor = ColumnTransformer([\n",
        "    ('num', num_pipeline, num_features),\n",
        "    ('cat', cat_pipeline, cat_features),\n",
        "    ('target_enc', ce.TargetEncoder(), target_enc_features)\n",
        "])\n",
        "\n",
        "# --- Prepare data ---\n",
        "X_train_prepared = preprocessor.fit_transform(X_train, y_train)\n",
        "X_test_prepared = preprocessor.transform(X_test)\n",
        "\n",
        "# --- Define model ---\n",
        "scale_pos_weight = (y_train == 0).sum() / (y_train == 1).sum()\n",
        "\n",
        "model = XGBClassifier(\n",
        "    objective='binary:logistic',\n",
        "    eval_metric='aucpr',\n",
        "    scale_pos_weight=scale_pos_weight,\n",
        "    use_label_encoder=False,\n",
        "    n_estimators=100,\n",
        "    random_state=42\n",
        ")\n",
        "\n",
        "# --- Train model ---\n",
        "model.fit(X_train_prepared, y_train)\n",
        "\n",
        "# --- Predict probabilities ---\n",
        "y_scores = model.predict_proba(X_test_prepared)[:, 1]\n",
        "\n",
        "# --- Precision-Recall Curve & Threshold Tuning ---\n",
        "precisions, recalls, thresholds = precision_recall_curve(y_test, y_scores)\n",
        "f1_scores = 2 * precisions * recalls / (precisions + recalls + 1e-8)\n",
        "optimal_idx = np.argmax(f1_scores)\n",
        "optimal_threshold = thresholds[optimal_idx]\n",
        "\n",
        "# Business-driven threshold example\n",
        "business_threshold = 0.45  # tuned to balance precision & recall per business need\n",
        "\n",
        "# --- Predictions at business threshold ---\n",
        "y_pred_business = (y_scores >= business_threshold).astype(int)\n",
        "\n",
        "print(f\"Optimal threshold by F1: {optimal_threshold:.3f}\")\n",
        "print(f\"Business-driven threshold: {business_threshold:.3f}\")\n",
        "print(\"Classification report at business threshold:\\n\", classification_report(y_test, y_pred_business))\n",
        "print(f\"Average precision (PR AUC): {average_precision_score(y_test, y_scores):.3f}\")\n",
        "\n",
        "# --- Plot PR curve with thresholds ---\n",
        "plt.figure(figsize=(8,6))\n",
        "plt.plot(recalls, precisions, label='PR Curve')\n",
        "plt.scatter(recalls[optimal_idx], precisions[optimal_idx], color='red', label='F1 Optimal Threshold')\n",
        "# Find closest point for business threshold on PR curve\n",
        "bus_idx = np.argmin(np.abs(thresholds - business_threshold))\n",
        "plt.scatter(recalls[bus_idx], precisions[bus_idx], color='green', label='Business Threshold')\n",
        "plt.xlabel('Recall')\n",
        "plt.ylabel('Precision')\n",
        "plt.title('Precision-Recall Curve with Thresholds')\n",
        "plt.legend()\n",
        "plt.show()\n",
        "\n",
        "# --- Cross-validation with probability predictions ---\n",
        "cv_preds = cross_val_predict(model, preprocessor.fit_transform(X, y), y, cv=5, method='predict_proba')[:, 1]\n",
        "cv_avg_precision = average_precision_score(y, cv_preds)\n",
        "print(f\"5-fold CV Average Precision: {cv_avg_precision:.3f}\")\n",
        "\n",
        "# --- Dummy Baseline ---\n",
        "dummy = DummyClassifier(strategy='prior')\n",
        "dummy.fit(X_train_prepared, y_train)\n",
        "dummy_scores = dummy.predict_proba(X_test_prepared)[:,1]\n",
        "print(f\"Dummy baseline average precision: {average_precision_score(y_test, dummy_scores):.3f}\")\n",
        "\n",
        "# --- Alternative model: LightGBM with imbalance handling ---\n",
        "lgbm_model = LGBMClassifier(is_unbalance=True, metric='average_precision', random_state=42)\n",
        "lgbm_model.fit(X_train_prepared, y_train)\n",
        "lgbm_scores = lgbm_model.predict_proba(X_test_prepared)[:,1]\n",
        "print(f\"LightGBM average precision: {average_precision_score(y_test, lgbm_scores):.3f}\")\n"
      ],
      "metadata": {
        "colab": {
          "base_uri": "https://localhost:8080/",
          "height": 1000
        },
        "id": "Rev4MTyJv0aX",
        "outputId": "669350bc-7883-4bb5-85a2-a57590470029"
      },
      "execution_count": 108,
      "outputs": [
        {
          "output_type": "stream",
          "name": "stdout",
          "text": [
            "Warning: No categorical columns found. Calling 'transform' will only return input data.\n"
          ]
        },
        {
          "output_type": "stream",
          "name": "stderr",
          "text": [
            "/usr/local/lib/python3.11/dist-packages/xgboost/core.py:158: UserWarning: [08:55:34] WARNING: /workspace/src/learner.cc:740: \n",
            "Parameters: { \"use_label_encoder\" } are not used.\n",
            "\n",
            "  warnings.warn(smsg, UserWarning)\n"
          ]
        },
        {
          "output_type": "stream",
          "name": "stdout",
          "text": [
            "Optimal threshold by F1: 0.039\n",
            "Business-driven threshold: 0.450\n",
            "Classification report at business threshold:\n",
            "               precision    recall  f1-score   support\n",
            "\n",
            "           0       0.26      0.27      0.26       123\n",
            "           1       0.67      0.66      0.66       277\n",
            "\n",
            "    accuracy                           0.54       400\n",
            "   macro avg       0.46      0.46      0.46       400\n",
            "weighted avg       0.54      0.54      0.54       400\n",
            "\n",
            "Average precision (PR AUC): 0.689\n"
          ]
        },
        {
          "output_type": "display_data",
          "data": {
            "text/plain": [
              "<Figure size 800x600 with 1 Axes>"
            ],
            "image/png": "[encoded data removed]"
          },
          "metadata": {}
        },
        {
          "output_type": "stream",
          "name": "stdout",
          "text": [
            "Warning: No categorical columns found. Calling 'transform' will only return input data.\n"
          ]
        },
        {
          "output_type": "stream",
          "name": "stderr",
          "text": [
            "/usr/local/lib/python3.11/dist-packages/xgboost/core.py:158: UserWarning: [08:55:36] WARNING: /workspace/src/learner.cc:740: \n",
            "Parameters: { \"use_label_encoder\" } are not used.\n",
            "\n",
            "  warnings.warn(smsg, UserWarning)\n",
            "/usr/local/lib/python3.11/dist-packages/xgboost/core.py:158: UserWarning: [08:55:37] WARNING: /workspace/src/learner.cc:740: \n",
            "Parameters: { \"use_label_encoder\" } are not used.\n",
            "\n",
            "  warnings.warn(smsg, UserWarning)\n",
            "/usr/local/lib/python3.11/dist-packages/xgboost/core.py:158: UserWarning: [08:55:38] WARNING: /workspace/src/learner.cc:740: \n",
            "Parameters: { \"use_label_encoder\" } are not used.\n",
            "\n",
            "  warnings.warn(smsg, UserWarning)\n"
          ]
        },
        {
          "output_type": "stream",
          "name": "stdout",
          "text": [
            "5-fold CV Average Precision: 0.678\n",
            "Dummy baseline average precision: 0.693\n",
            "[LightGBM] [Info] Number of positive: 1108, number of negative: 492\n",
            "[LightGBM] [Info] Auto-choosing row-wise multi-threading, the overhead of testing was 0.000275 seconds.\n",
            "You can set `force_row_wise=true` to remove the overhead.\n",
            "And if memory is not enough, you can set `force_col_wise=true`.\n",
            "[LightGBM] [Info] Total Bins 40\n",
            "[LightGBM] [Info] Number of data points in the train set: 1600, number of used features: 16\n",
            "[LightGBM] [Info] [binary:BoostFromScore]: pavg=0.692500 -> initscore=0.811833\n",
            "[LightGBM] [Info] Start training from score 0.811833\n",
            "LightGBM average precision: 0.691\n"
          ]
        },
        {
          "output_type": "stream",
          "name": "stderr",
          "text": [
            "/usr/local/lib/python3.11/dist-packages/sklearn/utils/deprecation.py:151: FutureWarning: 'force_all_finite' was renamed to 'ensure_all_finite' in 1.6 and will be removed in 1.8.\n",
            "  warnings.warn(\n",
            "/usr/local/lib/python3.11/dist-packages/sklearn/utils/deprecation.py:151: FutureWarning: 'force_all_finite' was renamed to 'ensure_all_finite' in 1.6 and will be removed in 1.8.\n",
            "  warnings.warn(\n"
          ]
        }
      ]
    },
    {
      "cell_type": "markdown",
      "source": [
        "The Average Precision (AP) or PR AUC score of 0.689 represents the area under the Precision-Recall (PR) curve, summarizing the trade-off between precision and recall for your classification model across all classification thresholds.\n",
        "\n",
        "In simpler terms:\n",
        "\n",
        "It measures how well your model balances precision (how many predicted positives are actually correct) and recall (how many true positives your model detects) across all possible thresholds.\n",
        "\n",
        "A score of 0.689 means that, on average, the model has fairly good ability to identify the positive class correctly without too many false positives.\n",
        "\n",
        "Since your dataset is imbalanced (about 69.2% positives), a naive baseline that randomly guesses according to class distribution would score roughly 0.692 (the positive class proportion). So, an AP close to 0.689 means your model is doing better than random chance but there’s still room for improvement.\n",
        "\n",
        "Higher values (closer to 1.0) indicate better performance, especially in imbalanced settings where accuracy can be misleading.\n",
        "\n",
        "In short, your model’s average precision of 0.689 means it has a good but not perfect precision-recall tradeoff—it’s capturing many true positives without too many false positives across thresholds, but further tuning or feature improvements could boost this score."
      ],
      "metadata": {
        "id": "Wt0FPA2ZwJc4"
      }
    },
    {
      "cell_type": "code",
      "source": [
        "print(df.columns.tolist())"
      ],
      "metadata": {
        "colab": {
          "base_uri": "https://localhost:8080/"
        },
        "id": "MMFTtOIi0KO4",
        "outputId": "9a671195-ee04-4884-81f6-e9a72e676e24"
      },
      "execution_count": 133,
      "outputs": [
        {
          "output_type": "stream",
          "name": "stdout",
          "text": [
            "['day_of_visit', 'age_group', 'gender', 'occupation', 'distance_from_futsal', 'player_level', 'is_weekend', 'day_sin', 'log_distance', 'interaction_feature']\n"
          ]
        }
      ]
    },
    {
      "cell_type": "code",
      "source": [
        "target_col = 'will_return'  # Correct target column name"
      ],
      "metadata": {
        "id": "KIEIVfr51L0j"
      },
      "execution_count": 134,
      "outputs": []
    },
    {
      "cell_type": "code",
      "source": [
        "# --- Imports ---\n",
        "import pandas as pd\n",
        "import numpy as np\n",
        "import matplotlib.pyplot as plt\n",
        "\n",
        "from sklearn.model_selection import train_test_split, cross_val_predict, RandomizedSearchCV\n",
        "from sklearn.pipeline import Pipeline\n",
        "from sklearn.compose import ColumnTransformer\n",
        "from sklearn.impute import SimpleImputer\n",
        "from sklearn.preprocessing import OneHotEncoder, StandardScaler\n",
        "from sklearn.metrics import (\n",
        "    precision_recall_curve,\n",
        "    classification_report,\n",
        "    average_precision_score\n",
        ")\n",
        "from sklearn.dummy import DummyClassifier\n",
        "\n",
        "from imblearn.over_sampling import SMOTE\n",
        "from xgboost import XGBClassifier\n",
        "from lightgbm import LGBMClassifier\n",
        "import category_encoders as ce\n",
        "from scipy.stats import randint, uniform\n",
        "\n",
        "# --- Load Data ---\n",
        "file_path = '/content/drive/MyDrive/datasets/futsal/futsal_player_data.csv'\n",
        "df = pd.read_csv(file_path)\n",
        "\n",
        "# --- Simulate Target Variable with two classes ---\n",
        "# Using a probabilistic rule for more balanced target distribution\n",
        "np.random.seed(42)\n",
        "prob_return = (\n",
        "    0.3 * (df['player_level'] / df['player_level'].max()) +  # higher player_level -> higher prob\n",
        "    0.3 * (1 - (df['distance_from_futsal'] / df['distance_from_futsal'].max())) +  # closer distance -> higher prob\n",
        "    0.4 * np.random.rand(len(df))  # random noise for variability\n",
        ")\n",
        "df['will_return'] = (prob_return > 0.5).astype(int)\n",
        "\n",
        "# Check distribution of target now\n",
        "print(\"Overall target distribution:\\n\", df['will_return'].value_counts())\n",
        "\n",
        "# --- Feature Engineering ---\n",
        "df['is_weekend'] = df['day_of_visit'].isin([5, 6]).astype(int)\n",
        "df['day_sin'] = np.sin(2 * np.pi * df['day_of_visit'] / 7)\n",
        "df['log_distance'] = np.log1p(df['distance_from_futsal'])\n",
        "df['interaction_feature'] = df['distance_from_futsal'] * df['player_level']\n",
        "df['age_group'] = df['age_group'].replace({4: 3, 5: 3})\n",
        "\n",
        "# --- Define Features and Target ---\n",
        "target_col = 'will_return'\n",
        "X = df.drop(columns=[target_col])\n",
        "y = df[target_col]\n",
        "\n",
        "# --- Train-Test Split with stratify ---\n",
        "X_train, X_test, y_train, y_test = train_test_split(\n",
        "    X, y, test_size=0.2, random_state=42, stratify=y\n",
        ")\n",
        "\n",
        "print(f\"Train target distribution:\\n{y_train.value_counts()}\")\n",
        "print(f\"Test target distribution:\\n{y_test.value_counts()}\")\n",
        "\n",
        "# --- Identify Feature Types ---\n",
        "num_features = ['log_distance', 'interaction_feature']\n",
        "target_enc_features = ['occupation', 'player_level']\n",
        "\n",
        "cat_features_str = [\n",
        "    col for col in ['gender']\n",
        "    if (X[col].dtype == 'object') or isinstance(X[col].dtype, pd.CategoricalDtype)\n",
        "]\n",
        "\n",
        "cat_features_num = [col for col in ['day_of_visit', 'is_weekend'] if col not in cat_features_str]\n",
        "\n",
        "# --- Preprocessing Pipelines ---\n",
        "num_pipeline = Pipeline([\n",
        "    ('imputer', SimpleImputer(strategy='median')),\n",
        "    ('scaler', StandardScaler())\n",
        "])\n",
        "\n",
        "cat_pipeline_str = Pipeline([\n",
        "    ('imputer', SimpleImputer(strategy='constant', fill_value='missing')),\n",
        "    ('onehot', OneHotEncoder(handle_unknown='ignore', sparse_output=False))\n",
        "])\n",
        "\n",
        "cat_pipeline_num = Pipeline([\n",
        "    ('imputer', SimpleImputer(strategy='constant', fill_value=-1)),\n",
        "    ('onehot', OneHotEncoder(handle_unknown='ignore', sparse_output=False))\n",
        "])\n",
        "\n",
        "preprocessor = ColumnTransformer([\n",
        "    ('num', num_pipeline, num_features),\n",
        "    ('cat_str', cat_pipeline_str, cat_features_str),\n",
        "    ('cat_num', cat_pipeline_num, cat_features_num),\n",
        "    ('target_enc', ce.TargetEncoder(), target_enc_features)\n",
        "])\n",
        "\n",
        "# --- Prepare Data ---\n",
        "X_train_prepared = preprocessor.fit_transform(X_train, y_train)\n",
        "X_test_prepared = preprocessor.transform(X_test)\n",
        "\n",
        "print(f\"Classes in y_train before SMOTE: {np.unique(y_train)}\")\n",
        "if len(np.unique(y_train)) < 2:\n",
        "    raise ValueError(\"Training target variable has only one class; SMOTE requires at least two classes.\")\n",
        "\n",
        "# --- Apply SMOTE ---\n",
        "smote = SMOTE(random_state=42)\n",
        "X_train_balanced, y_train_balanced = smote.fit_resample(X_train_prepared, y_train)\n",
        "\n",
        "print(f\"Classes in y_train after SMOTE: {np.unique(y_train_balanced)}\")\n",
        "print(f\"Counts after SMOTE:\\n{pd.Series(y_train_balanced).value_counts()}\")\n",
        "\n",
        "# --- Hyperparameter tuning with XGBoost ---\n",
        "param_dist = {\n",
        "    'n_estimators': randint(50, 300),\n",
        "    'max_depth': randint(3, 10),\n",
        "    'learning_rate': uniform(0.01, 0.2),\n",
        "    'min_child_weight': randint(1, 10),\n",
        "    'gamma': uniform(0, 5),\n",
        "    'subsample': uniform(0.6, 0.4),\n",
        "    'colsample_bytree': uniform(0.6, 0.4)\n",
        "}\n",
        "\n",
        "xgb_base = XGBClassifier(\n",
        "    objective='binary:logistic',\n",
        "    eval_metric='aucpr',\n",
        "    use_label_encoder=False,\n",
        "    random_state=42\n",
        ")\n",
        "\n",
        "random_search = RandomizedSearchCV(\n",
        "    estimator=xgb_base,\n",
        "    param_distributions=param_dist,\n",
        "    n_iter=50,\n",
        "    scoring='average_precision',\n",
        "    cv=5,\n",
        "    verbose=1,\n",
        "    n_jobs=-1,\n",
        "    random_state=42\n",
        ")\n",
        "\n",
        "random_search.fit(X_train_balanced, y_train_balanced)\n",
        "best_model = random_search.best_estimator_\n",
        "\n",
        "# --- Predict Probabilities ---\n",
        "y_scores = best_model.predict_proba(X_test_prepared)[:, 1]\n",
        "\n",
        "# --- Threshold Analysis ---\n",
        "precisions, recalls, thresholds = precision_recall_curve(y_test, y_scores)\n",
        "f1_scores = 2 * precisions * recalls / (precisions + recalls + 1e-8)\n",
        "optimal_idx = np.argmax(f1_scores)\n",
        "optimal_threshold = thresholds[optimal_idx]\n",
        "\n",
        "business_threshold = 0.45\n",
        "y_pred_business = (y_scores >= business_threshold).astype(int)\n",
        "\n",
        "# --- Evaluation ---\n",
        "print(f\"\\nOptimal threshold by F1: {optimal_threshold:.3f}\")\n",
        "print(f\"Business-driven threshold: {business_threshold:.3f}\")\n",
        "print(\"\\nClassification report at business threshold:\\n\", classification_report(y_test, y_pred_business))\n",
        "print(f\"Average precision (PR AUC): {average_precision_score(y_test, y_scores):.3f}\")\n",
        "\n",
        "# --- Plot Precision-Recall Curve ---\n",
        "plt.figure(figsize=(8, 6))\n",
        "plt.plot(recalls, precisions, label='PR Curve')\n",
        "plt.scatter(recalls[optimal_idx], precisions[optimal_idx], color='red', label='F1 Optimal Threshold')\n",
        "bus_idx = np.argmin(np.abs(thresholds - business_threshold))\n",
        "plt.scatter(recalls[bus_idx], precisions[bus_idx], color='green', label='Business Threshold')\n",
        "plt.xlabel('Recall')\n",
        "plt.ylabel('Precision')\n",
        "plt.title('Precision-Recall Curve with Thresholds')\n",
        "plt.legend()\n",
        "plt.grid()\n",
        "plt.show()\n",
        "\n",
        "# --- Cross-validation ---\n",
        "cv_preds = cross_val_predict(best_model, preprocessor.transform(X), y, cv=5, method='predict_proba')[:, 1]\n",
        "cv_avg_precision = average_precision_score(y, cv_preds)\n",
        "print(f\"5-fold CV Average Precision: {cv_avg_precision:.3f}\")\n",
        "\n",
        "# --- Dummy Baseline ---\n",
        "dummy = DummyClassifier(strategy='prior')\n",
        "dummy.fit(X_train_balanced, y_train_balanced)\n",
        "dummy_scores = dummy.predict_proba(X_test_prepared)[:, 1]\n",
        "print(f\"Dummy baseline average precision: {average_precision_score(y_test, dummy_scores):.3f}\")\n",
        "\n",
        "# --- LightGBM Alternative ---\n",
        "lgbm_model = LGBMClassifier(is_unbalance=True, metric='average_precision', random_state=42)\n",
        "lgbm_model.fit(X_train_balanced, y_train_balanced)\n",
        "lgbm_scores = lgbm_model.predict_proba(X_test_prepared)[:, 1]\n",
        "print(f\"LightGBM average precision: {average_precision_score(y_test, lgbm_scores):.3f}\")\n"
      ],
      "metadata": {
        "colab": {
          "base_uri": "https://localhost:8080/",
          "height": 1000
        },
        "id": "WCS5BKy11PaI",
        "outputId": "6b9d4d02-4c9f-4088-83b3-6ea069a8e1ac"
      },
      "execution_count": 148,
      "outputs": [
        {
          "output_type": "stream",
          "name": "stdout",
          "text": [
            "Overall target distribution:\n",
            " will_return\n",
            "1    1004\n",
            "0     996\n",
            "Name: count, dtype: int64\n",
            "Train target distribution:\n",
            "will_return\n",
            "1    803\n",
            "0    797\n",
            "Name: count, dtype: int64\n",
            "Test target distribution:\n",
            "will_return\n",
            "1    201\n",
            "0    199\n",
            "Name: count, dtype: int64\n",
            "Warning: No categorical columns found. Calling 'transform' will only return input data.\n",
            "Classes in y_train before SMOTE: [0 1]\n",
            "Classes in y_train after SMOTE: [0 1]\n",
            "Counts after SMOTE:\n",
            "will_return\n",
            "0    803\n",
            "1    803\n",
            "Name: count, dtype: int64\n",
            "Fitting 5 folds for each of 50 candidates, totalling 250 fits\n"
          ]
        },
        {
          "output_type": "stream",
          "name": "stderr",
          "text": [
            "/usr/local/lib/python3.11/dist-packages/xgboost/core.py:158: UserWarning: [09:25:28] WARNING: /workspace/src/learner.cc:740: \n",
            "Parameters: { \"use_label_encoder\" } are not used.\n",
            "\n",
            "  warnings.warn(smsg, UserWarning)\n"
          ]
        },
        {
          "output_type": "stream",
          "name": "stdout",
          "text": [
            "\n",
            "Optimal threshold by F1: 0.430\n",
            "Business-driven threshold: 0.450\n",
            "\n",
            "Classification report at business threshold:\n",
            "               precision    recall  f1-score   support\n",
            "\n",
            "           0       0.85      0.72      0.78       199\n",
            "           1       0.76      0.88      0.81       201\n",
            "\n",
            "    accuracy                           0.80       400\n",
            "   macro avg       0.80      0.80      0.80       400\n",
            "weighted avg       0.80      0.80      0.80       400\n",
            "\n",
            "Average precision (PR AUC): 0.898\n"
          ]
        },
        {
          "output_type": "display_data",
          "data": {
            "text/plain": [
              "<Figure size 800x600 with 1 Axes>"
            ],
            "image/png": "[encoded data removed]"
          },
          "metadata": {}
        },
        {
          "output_type": "stream",
          "name": "stderr",
          "text": [
            "/usr/local/lib/python3.11/dist-packages/xgboost/core.py:158: UserWarning: [09:25:28] WARNING: /workspace/src/learner.cc:740: \n",
            "Parameters: { \"use_label_encoder\" } are not used.\n",
            "\n",
            "  warnings.warn(smsg, UserWarning)\n"
          ]
        },
        {
          "output_type": "stream",
          "name": "stdout",
          "text": [
            "5-fold CV Average Precision: 0.898\n",
            "Dummy baseline average precision: 0.502\n",
            "[LightGBM] [Info] Number of positive: 803, number of negative: 803\n",
            "[LightGBM] [Info] Auto-choosing col-wise multi-threading, the overhead of testing was 0.000374 seconds.\n",
            "You can set `force_col_wise=true` to remove the overhead.\n",
            "[LightGBM] [Info] Total Bins 34\n",
            "[LightGBM] [Info] Number of data points in the train set: 1606, number of used features: 13\n",
            "[LightGBM] [Info] [binary:BoostFromScore]: pavg=0.500000 -> initscore=0.000000\n",
            "LightGBM average precision: 0.889\n"
          ]
        },
        {
          "output_type": "stream",
          "name": "stderr",
          "text": [
            "/usr/local/lib/python3.11/dist-packages/sklearn/utils/deprecation.py:151: FutureWarning: 'force_all_finite' was renamed to 'ensure_all_finite' in 1.6 and will be removed in 1.8.\n",
            "  warnings.warn(\n",
            "/usr/local/lib/python3.11/dist-packages/sklearn/utils/deprecation.py:151: FutureWarning: 'force_all_finite' was renamed to 'ensure_all_finite' in 1.6 and will be removed in 1.8.\n",
            "  warnings.warn(\n"
          ]
        }
      ]
    },
    {
      "cell_type": "markdown",
      "source": [
        "Feature engineering: creates weekend indicator, cyclic day-of-week encoding, log distance, interaction feature, and groups rare age groups.\n",
        "\n",
        "Preprocessing: separate pipelines for numeric, categorical, and target-encoded features.\n",
        "\n",
        "Model ensemble: combines tuned XGBoost and LightGBM classifiers using soft voting.\n",
        "\n",
        "SMOTE: oversampling minority class inside the pipeline to handle imbalance.\n",
        "\n",
        "Randomized hyperparameter tuning: searches for best parameters across 5-fold CV optimizing average precision.\n",
        "\n",
        "Evaluation: uses PR curve and F1-based threshold selection, plus manual business threshold tuning.\n",
        "\n",
        "Cross-validation: checks model robustness on full data.\n",
        "\n",
        "Dummy baseline: confirms the model beats naive prior prediction.\n",
        "\n",
        "Plot: visualizes the precision-recall tradeoff with highlighted thresholds."
      ],
      "metadata": {
        "id": "faDA93Pcxg9b"
      }
    },
    {
      "cell_type": "code",
      "source": [
        "# --- Imports ---\n",
        "import pandas as pd\n",
        "import numpy as np\n",
        "import matplotlib.pyplot as plt\n",
        "\n",
        "from sklearn.model_selection import train_test_split, cross_val_predict, RandomizedSearchCV\n",
        "from sklearn.pipeline import Pipeline\n",
        "from sklearn.compose import ColumnTransformer\n",
        "from sklearn.impute import SimpleImputer\n",
        "from sklearn.preprocessing import OneHotEncoder, StandardScaler\n",
        "from sklearn.metrics import (\n",
        "    precision_recall_curve,\n",
        "    classification_report,\n",
        "    average_precision_score\n",
        ")\n",
        "from sklearn.dummy import DummyClassifier\n",
        "from sklearn.ensemble import VotingClassifier\n",
        "\n",
        "from imblearn.pipeline import Pipeline as ImbPipeline\n",
        "from imblearn.over_sampling import SMOTE\n",
        "from xgboost import XGBClassifier\n",
        "from lightgbm import LGBMClassifier\n",
        "import category_encoders as ce\n",
        "from scipy.stats import randint, uniform\n",
        "\n",
        "# =============================================================================\n",
        "# Feature engineering: creates weekend indicator, cyclic day-of-week encoding,\n",
        "# log distance, interaction feature, and groups rare age groups.\n",
        "#\n",
        "# Preprocessing: separate pipelines for numeric, categorical, and target-encoded features.\n",
        "#\n",
        "# Model ensemble: combines tuned XGBoost and LightGBM classifiers using soft voting.\n",
        "#\n",
        "# SMOTE: oversampling minority class inside the pipeline to handle imbalance.\n",
        "#\n",
        "# Randomized hyperparameter tuning: searches for best parameters across 5-fold CV optimizing average precision.\n",
        "#\n",
        "# Evaluation: uses PR curve and F1-based threshold selection, plus manual business threshold tuning.\n",
        "#\n",
        "# Cross-validation: checks model robustness on full data.\n",
        "#\n",
        "# Dummy baseline: confirms the model beats naive prior prediction.\n",
        "#\n",
        "# Plot: visualizes the precision-recall tradeoff with highlighted thresholds.\n",
        "# Dummy Baseline Average Precision (~0.693) indicates a simple baseline predicting prior class distribution.\n",
        "# =============================================================================\n",
        "\n",
        "# --- Load Data ---\n",
        "file_path = '/content/drive/MyDrive/datasets/futsal/futsal_player_data.csv'\n",
        "df = pd.read_csv(file_path)\n",
        "\n",
        "# --- Simulate Target Variable with two classes ---\n",
        "# Using a probabilistic rule for more balanced target distribution\n",
        "np.random.seed(42)\n",
        "prob_return = (\n",
        "    0.3 * (df['player_level'] / df['player_level'].max()) +  # higher player_level -> higher prob\n",
        "    0.3 * (1 - (df['distance_from_futsal'] / df['distance_from_futsal'].max())) +  # closer distance -> higher prob\n",
        "    0.4 * np.random.rand(len(df))  # random noise for variability\n",
        ")\n",
        "df['will_return'] = (prob_return > 0.5).astype(int)\n",
        "\n",
        "# Check target distribution\n",
        "print(\"Overall target distribution:\\n\", df['will_return'].value_counts())\n",
        "\n",
        "# --- Feature Engineering ---\n",
        "df['is_weekend'] = df['day_of_visit'].isin([5, 6]).astype(int)  # weekend indicator\n",
        "df['day_sin'] = np.sin(2 * np.pi * df['day_of_visit'] / 7)     # cyclic encoding of day_of_week\n",
        "df['log_distance'] = np.log1p(df['distance_from_futsal'])      # log transform distance\n",
        "df['interaction_feature'] = df['distance_from_futsal'] * df['player_level']  # interaction term\n",
        "df['age_group'] = df['age_group'].replace({4: 3, 5: 3})        # group rare age groups into 3\n",
        "\n",
        "# --- Define Features and Target ---\n",
        "target_col = 'will_return'\n",
        "X = df.drop(columns=[target_col])\n",
        "y = df[target_col]\n",
        "\n",
        "# --- Train-Test Split with stratify to maintain class balance ---\n",
        "X_train, X_test, y_train, y_test = train_test_split(\n",
        "    X, y, test_size=0.2, random_state=42, stratify=y\n",
        ")\n",
        "\n",
        "print(f\"Train target distribution:\\n{y_train.value_counts()}\")\n",
        "print(f\"Test target distribution:\\n{y_test.value_counts()}\")\n",
        "\n",
        "# --- Identify Feature Types ---\n",
        "num_features = ['log_distance', 'interaction_feature']\n",
        "target_enc_features = ['occupation', 'player_level']\n",
        "\n",
        "cat_features_str = [\n",
        "    col for col in ['gender']\n",
        "    if (X[col].dtype == 'object') or isinstance(X[col].dtype, pd.CategoricalDtype)\n",
        "]\n",
        "\n",
        "cat_features_num = [col for col in ['day_of_visit', 'is_weekend'] if col not in cat_features_str]\n",
        "\n",
        "# --- Preprocessing Pipelines ---\n",
        "num_pipeline = Pipeline([\n",
        "    ('imputer', SimpleImputer(strategy='median')),\n",
        "    ('scaler', StandardScaler())\n",
        "])\n",
        "\n",
        "cat_pipeline_str = Pipeline([\n",
        "    ('imputer', SimpleImputer(strategy='constant', fill_value='missing')),\n",
        "    ('onehot', OneHotEncoder(handle_unknown='ignore', sparse_output=False))\n",
        "])\n",
        "\n",
        "cat_pipeline_num = Pipeline([\n",
        "    ('imputer', SimpleImputer(strategy='constant', fill_value=-1)),\n",
        "    ('onehot', OneHotEncoder(handle_unknown='ignore', sparse_output=False))\n",
        "])\n",
        "\n",
        "preprocessor = ColumnTransformer([\n",
        "    ('num', num_pipeline, num_features),\n",
        "    ('cat_str', cat_pipeline_str, cat_features_str),\n",
        "    ('cat_num', cat_pipeline_num, cat_features_num),\n",
        "    ('target_enc', ce.TargetEncoder(), target_enc_features)\n",
        "])\n",
        "\n",
        "# --- Build a pipeline including SMOTE to handle imbalance during training ---\n",
        "pipeline = ImbPipeline([\n",
        "    ('preprocessor', preprocessor),\n",
        "    ('smote', SMOTE(random_state=42)),\n",
        "    ('classifier', XGBClassifier(\n",
        "        objective='binary:logistic',\n",
        "        eval_metric='aucpr',\n",
        "        use_label_encoder=False,\n",
        "        random_state=42\n",
        "    ))\n",
        "])\n",
        "\n",
        "# --- Hyperparameter tuning for XGBoost ---\n",
        "param_dist = {\n",
        "    'classifier__n_estimators': randint(50, 300),\n",
        "    'classifier__max_depth': randint(3, 10),\n",
        "    'classifier__learning_rate': uniform(0.01, 0.2),\n",
        "    'classifier__min_child_weight': randint(1, 10),\n",
        "    'classifier__gamma': uniform(0, 5),\n",
        "    'classifier__subsample': uniform(0.6, 0.4),\n",
        "    'classifier__colsample_bytree': uniform(0.6, 0.4)\n",
        "}\n",
        "\n",
        "random_search = RandomizedSearchCV(\n",
        "    estimator=pipeline,\n",
        "    param_distributions=param_dist,\n",
        "    n_iter=50,\n",
        "    scoring='average_precision',\n",
        "    cv=5,\n",
        "    verbose=1,\n",
        "    n_jobs=-1,\n",
        "    random_state=42\n",
        ")\n",
        "\n",
        "random_search.fit(X_train, y_train)\n",
        "best_pipeline = random_search.best_estimator_\n",
        "\n",
        "# --- Train LightGBM separately for ensemble ---\n",
        "lgbm_pipeline = ImbPipeline([\n",
        "    ('preprocessor', preprocessor),\n",
        "    ('smote', SMOTE(random_state=42)),\n",
        "    ('classifier', LGBMClassifier(is_unbalance=True, metric='average_precision', random_state=42))\n",
        "])\n",
        "\n",
        "lgbm_pipeline.fit(X_train, y_train)\n",
        "\n",
        "# --- Ensemble with soft voting ---\n",
        "ensemble = VotingClassifier(\n",
        "    estimators=[\n",
        "        ('xgb', best_pipeline.named_steps['classifier']),\n",
        "        ('lgbm', lgbm_pipeline.named_steps['classifier'])\n",
        "    ],\n",
        "    voting='soft',\n",
        "    weights=[2,1]  # give higher weight to tuned XGB\n",
        ")\n",
        "\n",
        "# Fit ensemble on fully preprocessed and balanced training data\n",
        "X_train_prep = best_pipeline.named_steps['preprocessor'].transform(X_train)\n",
        "X_train_balanced, y_train_balanced = SMOTE(random_state=42).fit_resample(X_train_prep, y_train)\n",
        "ensemble.fit(X_train_balanced, y_train_balanced)\n",
        "\n",
        "# --- Predict probabilities on test set ---\n",
        "X_test_prep = best_pipeline.named_steps['preprocessor'].transform(X_test)\n",
        "y_scores = ensemble.predict_proba(X_test_prep)[:, 1]\n",
        "\n",
        "# --- Threshold Analysis ---\n",
        "precisions, recalls, thresholds = precision_recall_curve(y_test, y_scores)\n",
        "f1_scores = 2 * precisions * recalls / (precisions + recalls + 1e-8)\n",
        "optimal_idx = np.argmax(f1_scores)\n",
        "optimal_threshold = thresholds[optimal_idx]\n",
        "\n",
        "business_threshold = 0.45\n",
        "y_pred_business = (y_scores >= business_threshold).astype(int)\n",
        "\n",
        "# --- Evaluation ---\n",
        "print(f\"\\nOptimal threshold by F1: {optimal_threshold:.3f}\")\n",
        "print(f\"Business-driven threshold: {business_threshold:.3f}\")\n",
        "print(\"\\nClassification report at business threshold:\\n\", classification_report(y_test, y_pred_business))\n",
        "print(f\"Average precision (PR AUC): {average_precision_score(y_test, y_scores):.3f}\")\n",
        "\n",
        "# --- Plot Precision-Recall Curve ---\n",
        "plt.figure(figsize=(8, 6))\n",
        "plt.plot(recalls, precisions, label='PR Curve')\n",
        "plt.scatter(recalls[optimal_idx], precisions[optimal_idx], color='red', label='F1 Optimal Threshold')\n",
        "bus_idx = np.argmin(np.abs(thresholds - business_threshold))\n",
        "plt.scatter(recalls[bus_idx], precisions[bus_idx], color='green', label='Business Threshold')\n",
        "plt.xlabel('Recall')\n",
        "plt.ylabel('Precision')\n",
        "plt.title('Precision-Recall Curve with Thresholds')\n",
        "plt.legend()\n",
        "plt.grid()\n",
        "plt.show()\n",
        "\n",
        "# --- Cross-validation on full data ---\n",
        "cv_preds = cross_val_predict(ensemble, preprocessor.transform(X), y, cv=5, method='predict_proba')[:, 1]\n",
        "cv_avg_precision = average_precision_score(y, cv_preds)\n",
        "print(f\"5-fold CV Average Precision: {cv_avg_precision:.3f}\")\n",
        "\n",
        "# --- Dummy Baseline ---\n",
        "dummy = DummyClassifier(strategy='prior')\n",
        "dummy.fit(X_train, y_train)\n",
        "dummy_scores = dummy.predict_proba(X_test)[:, 1]\n",
        "print(f\"Dummy baseline average precision: {average_precision_score(y_test, dummy_scores):.3f}\")\n"
      ],
      "metadata": {
        "colab": {
          "base_uri": "https://localhost:8080/",
          "height": 1000
        },
        "id": "IK0A40C729jj",
        "outputId": "9efc7bc2-33ae-4413-e150-335d8d9de5a9"
      },
      "execution_count": 149,
      "outputs": [
        {
          "output_type": "stream",
          "name": "stdout",
          "text": [
            "Overall target distribution:\n",
            " will_return\n",
            "1    1004\n",
            "0     996\n",
            "Name: count, dtype: int64\n",
            "Train target distribution:\n",
            "will_return\n",
            "1    803\n",
            "0    797\n",
            "Name: count, dtype: int64\n",
            "Test target distribution:\n",
            "will_return\n",
            "1    201\n",
            "0    199\n",
            "Name: count, dtype: int64\n",
            "Fitting 5 folds for each of 50 candidates, totalling 250 fits\n",
            "Warning: No categorical columns found. Calling 'transform' will only return input data.\n"
          ]
        },
        {
          "output_type": "stream",
          "name": "stderr",
          "text": [
            "/usr/local/lib/python3.11/dist-packages/xgboost/core.py:158: UserWarning: [09:26:45] WARNING: /workspace/src/learner.cc:740: \n",
            "Parameters: { \"use_label_encoder\" } are not used.\n",
            "\n",
            "  warnings.warn(smsg, UserWarning)\n"
          ]
        },
        {
          "output_type": "stream",
          "name": "stdout",
          "text": [
            "Warning: No categorical columns found. Calling 'transform' will only return input data.\n",
            "[LightGBM] [Info] Number of positive: 803, number of negative: 803\n",
            "[LightGBM] [Info] Auto-choosing row-wise multi-threading, the overhead of testing was 0.000104 seconds.\n",
            "You can set `force_row_wise=true` to remove the overhead.\n",
            "And if memory is not enough, you can set `force_col_wise=true`.\n",
            "[LightGBM] [Info] Total Bins 34\n",
            "[LightGBM] [Info] Number of data points in the train set: 1606, number of used features: 13\n",
            "[LightGBM] [Info] [binary:BoostFromScore]: pavg=0.500000 -> initscore=0.000000\n"
          ]
        },
        {
          "output_type": "stream",
          "name": "stderr",
          "text": [
            "/usr/local/lib/python3.11/dist-packages/sklearn/utils/deprecation.py:151: FutureWarning: 'force_all_finite' was renamed to 'ensure_all_finite' in 1.6 and will be removed in 1.8.\n",
            "  warnings.warn(\n",
            "/usr/local/lib/python3.11/dist-packages/xgboost/core.py:158: UserWarning: [09:26:47] WARNING: /workspace/src/learner.cc:740: \n",
            "Parameters: { \"use_label_encoder\" } are not used.\n",
            "\n",
            "  warnings.warn(smsg, UserWarning)\n",
            "/usr/local/lib/python3.11/dist-packages/sklearn/utils/deprecation.py:151: FutureWarning: 'force_all_finite' was renamed to 'ensure_all_finite' in 1.6 and will be removed in 1.8.\n",
            "  warnings.warn(\n",
            "/usr/local/lib/python3.11/dist-packages/sklearn/utils/deprecation.py:151: FutureWarning: 'force_all_finite' was renamed to 'ensure_all_finite' in 1.6 and will be removed in 1.8.\n",
            "  warnings.warn(\n"
          ]
        },
        {
          "output_type": "stream",
          "name": "stdout",
          "text": [
            "[LightGBM] [Info] Number of positive: 803, number of negative: 803\n",
            "[LightGBM] [Info] Auto-choosing row-wise multi-threading, the overhead of testing was 0.000099 seconds.\n",
            "You can set `force_row_wise=true` to remove the overhead.\n",
            "And if memory is not enough, you can set `force_col_wise=true`.\n",
            "[LightGBM] [Info] Total Bins 34\n",
            "[LightGBM] [Info] Number of data points in the train set: 1606, number of used features: 13\n",
            "[LightGBM] [Info] [binary:BoostFromScore]: pavg=0.500000 -> initscore=0.000000\n",
            "\n",
            "Optimal threshold by F1: 0.404\n",
            "Business-driven threshold: 0.450\n",
            "\n",
            "Classification report at business threshold:\n",
            "               precision    recall  f1-score   support\n",
            "\n",
            "           0       0.82      0.75      0.78       199\n",
            "           1       0.77      0.83      0.80       201\n",
            "\n",
            "    accuracy                           0.79       400\n",
            "   macro avg       0.79      0.79      0.79       400\n",
            "weighted avg       0.79      0.79      0.79       400\n",
            "\n",
            "Average precision (PR AUC): 0.894\n"
          ]
        },
        {
          "output_type": "display_data",
          "data": {
            "text/plain": [
              "<Figure size 800x600 with 1 Axes>"
            ],
            "image/png": "[encoded data removed]"
          },
          "metadata": {}
        },
        {
          "output_type": "stream",
          "name": "stderr",
          "text": [
            "/usr/local/lib/python3.11/dist-packages/xgboost/core.py:158: UserWarning: [09:26:47] WARNING: /workspace/src/learner.cc:740: \n",
            "Parameters: { \"use_label_encoder\" } are not used.\n",
            "\n",
            "  warnings.warn(smsg, UserWarning)\n",
            "/usr/local/lib/python3.11/dist-packages/sklearn/utils/deprecation.py:151: FutureWarning: 'force_all_finite' was renamed to 'ensure_all_finite' in 1.6 and will be removed in 1.8.\n",
            "  warnings.warn(\n",
            "/usr/local/lib/python3.11/dist-packages/sklearn/utils/deprecation.py:151: FutureWarning: 'force_all_finite' was renamed to 'ensure_all_finite' in 1.6 and will be removed in 1.8.\n",
            "  warnings.warn(\n",
            "/usr/local/lib/python3.11/dist-packages/xgboost/core.py:158: UserWarning: [09:26:47] WARNING: /workspace/src/learner.cc:740: \n",
            "Parameters: { \"use_label_encoder\" } are not used.\n",
            "\n",
            "  warnings.warn(smsg, UserWarning)\n",
            "/usr/local/lib/python3.11/dist-packages/sklearn/utils/deprecation.py:151: FutureWarning: 'force_all_finite' was renamed to 'ensure_all_finite' in 1.6 and will be removed in 1.8.\n",
            "  warnings.warn(\n"
          ]
        },
        {
          "output_type": "stream",
          "name": "stdout",
          "text": [
            "[LightGBM] [Info] Number of positive: 803, number of negative: 797\n",
            "[LightGBM] [Info] Auto-choosing row-wise multi-threading, the overhead of testing was 0.000168 seconds.\n",
            "You can set `force_row_wise=true` to remove the overhead.\n",
            "And if memory is not enough, you can set `force_col_wise=true`.\n",
            "[LightGBM] [Info] Total Bins 34\n",
            "[LightGBM] [Info] Number of data points in the train set: 1600, number of used features: 13\n",
            "[LightGBM] [Info] [binary:BoostFromScore]: pavg=0.501875 -> initscore=0.007500\n",
            "[LightGBM] [Info] Start training from score 0.007500\n",
            "[LightGBM] [Info] Number of positive: 803, number of negative: 797\n",
            "[LightGBM] [Info] Auto-choosing row-wise multi-threading, the overhead of testing was 0.000144 seconds.\n",
            "You can set `force_row_wise=true` to remove the overhead.\n",
            "And if memory is not enough, you can set `force_col_wise=true`.\n",
            "[LightGBM] [Info] Total Bins 34\n",
            "[LightGBM] [Info] Number of data points in the train set: 1600, number of used features: 13\n",
            "[LightGBM] [Info] [binary:BoostFromScore]: pavg=0.501875 -> initscore=0.007500\n",
            "[LightGBM] [Info] Start training from score 0.007500\n"
          ]
        },
        {
          "output_type": "stream",
          "name": "stderr",
          "text": [
            "/usr/local/lib/python3.11/dist-packages/sklearn/utils/deprecation.py:151: FutureWarning: 'force_all_finite' was renamed to 'ensure_all_finite' in 1.6 and will be removed in 1.8.\n",
            "  warnings.warn(\n",
            "/usr/local/lib/python3.11/dist-packages/xgboost/core.py:158: UserWarning: [09:26:47] WARNING: /workspace/src/learner.cc:740: \n",
            "Parameters: { \"use_label_encoder\" } are not used.\n",
            "\n",
            "  warnings.warn(smsg, UserWarning)\n",
            "/usr/local/lib/python3.11/dist-packages/sklearn/utils/deprecation.py:151: FutureWarning: 'force_all_finite' was renamed to 'ensure_all_finite' in 1.6 and will be removed in 1.8.\n",
            "  warnings.warn(\n",
            "/usr/local/lib/python3.11/dist-packages/sklearn/utils/deprecation.py:151: FutureWarning: 'force_all_finite' was renamed to 'ensure_all_finite' in 1.6 and will be removed in 1.8.\n",
            "  warnings.warn(\n",
            "/usr/local/lib/python3.11/dist-packages/xgboost/core.py:158: UserWarning: [09:26:48] WARNING: /workspace/src/learner.cc:740: \n",
            "Parameters: { \"use_label_encoder\" } are not used.\n",
            "\n",
            "  warnings.warn(smsg, UserWarning)\n",
            "/usr/local/lib/python3.11/dist-packages/sklearn/utils/deprecation.py:151: FutureWarning: 'force_all_finite' was renamed to 'ensure_all_finite' in 1.6 and will be removed in 1.8.\n",
            "  warnings.warn(\n"
          ]
        },
        {
          "output_type": "stream",
          "name": "stdout",
          "text": [
            "[LightGBM] [Info] Number of positive: 803, number of negative: 797\n",
            "[LightGBM] [Info] Auto-choosing col-wise multi-threading, the overhead of testing was 0.000256 seconds.\n",
            "You can set `force_col_wise=true` to remove the overhead.\n",
            "[LightGBM] [Info] Total Bins 34\n",
            "[LightGBM] [Info] Number of data points in the train set: 1600, number of used features: 13\n",
            "[LightGBM] [Info] [binary:BoostFromScore]: pavg=0.501875 -> initscore=0.007500\n",
            "[LightGBM] [Info] Start training from score 0.007500\n",
            "[LightGBM] [Info] Number of positive: 803, number of negative: 797\n",
            "[LightGBM] [Info] Auto-choosing col-wise multi-threading, the overhead of testing was 0.000230 seconds.\n",
            "You can set `force_col_wise=true` to remove the overhead.\n",
            "[LightGBM] [Info] Total Bins 34\n",
            "[LightGBM] [Info] Number of data points in the train set: 1600, number of used features: 13\n",
            "[LightGBM] [Info] [binary:BoostFromScore]: pavg=0.501875 -> initscore=0.007500\n",
            "[LightGBM] [Info] Start training from score 0.007500\n",
            "[LightGBM] [Info] Number of positive: 804, number of negative: 796\n",
            "[LightGBM] [Info] Auto-choosing row-wise multi-threading, the overhead of testing was 0.000140 seconds.\n",
            "You can set `force_row_wise=true` to remove the overhead.\n",
            "And if memory is not enough, you can set `force_col_wise=true`.\n",
            "[LightGBM] [Info] Total Bins 34\n",
            "[LightGBM] [Info] Number of data points in the train set: 1600, number of used features: 13\n",
            "[LightGBM] [Info] [binary:BoostFromScore]: pavg=0.502500 -> initscore=0.010000\n",
            "[LightGBM] [Info] Start training from score 0.010000\n",
            "5-fold CV Average Precision: 0.899\n",
            "Dummy baseline average precision: 0.502\n"
          ]
        },
        {
          "output_type": "stream",
          "name": "stderr",
          "text": [
            "/usr/local/lib/python3.11/dist-packages/sklearn/utils/deprecation.py:151: FutureWarning: 'force_all_finite' was renamed to 'ensure_all_finite' in 1.6 and will be removed in 1.8.\n",
            "  warnings.warn(\n",
            "/usr/local/lib/python3.11/dist-packages/xgboost/core.py:158: UserWarning: [09:26:48] WARNING: /workspace/src/learner.cc:740: \n",
            "Parameters: { \"use_label_encoder\" } are not used.\n",
            "\n",
            "  warnings.warn(smsg, UserWarning)\n",
            "/usr/local/lib/python3.11/dist-packages/sklearn/utils/deprecation.py:151: FutureWarning: 'force_all_finite' was renamed to 'ensure_all_finite' in 1.6 and will be removed in 1.8.\n",
            "  warnings.warn(\n",
            "/usr/local/lib/python3.11/dist-packages/sklearn/utils/deprecation.py:151: FutureWarning: 'force_all_finite' was renamed to 'ensure_all_finite' in 1.6 and will be removed in 1.8.\n",
            "  warnings.warn(\n"
          ]
        }
      ]
    },
    {
      "cell_type": "markdown",
      "source": [
        "# Model Evaluation Summary\n",
        "\n",
        "---\n",
        "\n",
        "### 1. Target Distribution\n",
        "\n",
        "**Overall dataset:**\n",
        "\n",
        "- Class 1 (will return): 1004 samples  \n",
        "- Class 0 (won’t return): 996 samples  \n",
        "\n",
        "Balanced dataset (almost 50/50 split)\n",
        "\n",
        "**Train set:**\n",
        "\n",
        "- Class 1: 803  \n",
        "- Class 0: 797  \n",
        "\n",
        "**Test set:**\n",
        "\n",
        "- Class 1: 201  \n",
        "- Class 0: 199  \n",
        "\n",
        "_This balanced distribution means your classification problem is not heavily imbalanced, which makes modeling easier and reduces the need for complex balancing techniques._\n",
        "\n",
        "---\n",
        "\n",
        "### 2. Model Training & Warnings\n",
        "\n",
        "- **Warnings about `use_label_encoder`:**  \n",
        "  XGBoost has deprecated `use_label_encoder`. It's just a warning and doesn’t impact your results. You can safely remove that parameter.\n",
        "\n",
        "- **No categorical columns found warning:**  \n",
        "  This means your preprocessing pipeline might be converting categorical columns into numeric arrays early, so when you call `transform` later, sklearn says there are no categorical columns left. This is normal if your pipeline encodes categories before training.\n",
        "\n",
        "- **LightGBM info:**  \n",
        "  Shows how many positive and negative samples and feature usage, confirming balanced classes.\n",
        "\n",
        "---\n",
        "\n",
        "### 3. Threshold Analysis\n",
        "\n",
        "- **Optimal threshold by F1 = 0.404:**  \n",
        "  The threshold on predicted probabilities (between 0 and 1) that maximizes the F1 score (harmonic mean of precision and recall). If your model predicts probability > 0.404, classify as class 1 (will return), else class 0.\n",
        "\n",
        "- **Business-driven threshold = 0.45:**  \n",
        "  A manually chosen threshold based on business considerations (e.g., cost of false positives vs false negatives). Slightly stricter than optimal.\n",
        "\n",
        "---\n",
        "\n",
        "### 4. Classification Report at Business Threshold (0.45)\n",
        "\n",
        "| Class           | Precision | Recall | F1-score | Support |\n",
        "|-----------------|-----------|--------|----------|---------|\n",
        "| 0 (won't return)| 0.82      | 0.75   | 0.78     | 199     |\n",
        "| 1 (will return) | 0.77      | 0.83   | 0.80     | 201     |\n",
        "\n",
        "- **Precision (Class 0 = 0.82):** Of all predicted \"won't return,\" 82% were correct.  \n",
        "- **Recall (Class 0 = 0.75):** Of all actual \"won't return,\" 75% were detected.  \n",
        "- **F1-score:** Balanced measure combining precision and recall.  \n",
        "\n",
        "_Similar interpretation applies to class 1._\n",
        "\n",
        "- **Accuracy: 79%** — Overall proportion of correct predictions.\n",
        "\n",
        "---\n",
        "\n",
        "### 5. Average Precision (PR AUC) = 0.894\n",
        "\n",
        "- This is a **summary metric of the Precision-Recall curve**.  \n",
        "- Values closer to 1 mean excellent model performance.  \n",
        "- 0.894 means the model is very good at distinguishing between returning and non-returning players.\n"
      ],
      "metadata": {
        "id": "xg2wBZg3xyCr"
      }
    },
    {
      "cell_type": "markdown",
      "source": [
        "# Understanding the Precision-Recall Curve\n",
        "\n",
        "The Precision-Recall (PR) curve is a graphical representation that shows the trade-off between **precision** and **recall** for different probability thresholds in a classification model.\n",
        "\n",
        "---\n",
        "\n",
        "### Key Elements of the Graph:\n",
        "\n",
        "- **Precision (Y-axis):**  \n",
        "  The ratio of true positives to all predicted positives (true positives + false positives).  \n",
        "  Measures how accurate your positive predictions are.\n",
        "\n",
        "- **Recall (X-axis):**  \n",
        "  The ratio of true positives to all actual positives (true positives + false negatives).  \n",
        "  Measures how well you capture all actual positives.\n",
        "\n",
        "- **Thresholds:**  \n",
        "  The curve is created by varying the decision threshold from 0 to 1, showing how precision and recall change at each threshold level.\n",
        "\n",
        "---\n",
        "\n",
        "### The Two Special Thresholds:\n",
        "\n",
        "- **F1 Optimal Threshold:**  \n",
        "  The point that maximizes the F1 score (harmonic mean of precision and recall).  \n",
        "  **Formula:**  \n",
        "  \\[\n",
        "  F1 = 2 \\times \\frac{\\text{precision} \\times \\text{recall}}{\\text{precision} + \\text{recall}}\n",
        "  \\]  \n",
        "  This threshold balances precision and recall equally.  \n",
        "  It is a good general-purpose threshold when both false positives and false negatives are equally important.\n",
        "\n",
        "- **Business Threshold:**  \n",
        "  A threshold chosen based on specific business needs rather than pure statistical optimization.  \n",
        "  It might favor higher precision (if false positives are costly) or higher recall (if missing positives is costly).  \n",
        "  _Example:_ In fraud detection, you might accept lower precision to catch more fraud cases (higher recall).\n",
        "\n",
        "---\n",
        "\n",
        "### What the Graph Tells You:\n",
        "\n",
        "- A curve that stays high (near 1) across all recall values indicates a strong model.  \n",
        "- The closer the curve is to the top-right corner, the better the model.  \n",
        "- Steep drops show where you're losing precision as you try to capture more positives.  \n",
        "- The optimal threshold depends on your specific use case and whether you prioritize precision, recall, or a balance of both.\n"
      ],
      "metadata": {
        "id": "62fbXJsW3t_0"
      }
    },
    {
      "cell_type": "markdown",
      "source": [
        "# Explanation and Justification of the Modeling Approach and Results\n",
        "\n",
        "---\n",
        "\n",
        "### What We Have Done in This Code:\n",
        "\n",
        "1. **Feature Engineering:**  \n",
        "   - Created new informative features such as:  \n",
        "     - **Weekend indicator** (`is_weekend`) to capture behavioral patterns by day.  \n",
        "     - **Cyclic encoding of day of week** (`day_sin`) to preserve the natural weekly cycle.  \n",
        "     - **Log transformation of distance** (`log_distance`) to handle skewed distance data.  \n",
        "     - **Interaction feature** combining distance and player level to capture complex relations.  \n",
        "     - Grouped rare categories in `age_group` to reduce noise.\n",
        "\n",
        "2. **Preprocessing Pipelines:**  \n",
        "   - Separate pipelines for numeric features (imputation + scaling), categorical features (imputation + encoding), and target encoding for some categorical variables, ensuring robust and consistent transformations.\n",
        "\n",
        "3. **Handling Class Imbalance with SMOTE:**  \n",
        "   - Although the dataset was fairly balanced, we applied SMOTE oversampling *inside the pipeline* to synthetically balance the minority class in training folds during cross-validation, improving the model’s ability to generalize.\n",
        "\n",
        "4. **Model Ensemble:**  \n",
        "   - Combined two powerful gradient boosting models, **XGBoost** and **LightGBM**, using soft voting. This leverages complementary strengths and generally boosts predictive performance and robustness.\n",
        "\n",
        "5. **Hyperparameter Tuning:**  \n",
        "   - Used **Randomized Search** with 5-fold cross-validation optimizing average precision (PR AUC).  \n",
        "   - Explored wide ranges of hyperparameters to find the best model configuration, preventing underfitting or overfitting.\n",
        "\n",
        "6. **Evaluation and Threshold Selection:**  \n",
        "   - Evaluated model using Precision-Recall curve, which is more informative than accuracy in imbalanced or cost-sensitive settings.  \n",
        "   - Identified an **optimal threshold** maximizing F1 score (balancing precision and recall) and compared it with a **business-driven threshold** based on domain needs.  \n",
        "   - This flexible threshold tuning allows for tailored trade-offs between false positives and false negatives.\n",
        "\n",
        "7. **Robustness Check:**  \n",
        "   - Validated final model performance with 5-fold cross-validation on full data, confirming consistent predictive power.\n",
        "\n",
        "8. **Baseline Comparison:**  \n",
        "   - Compared to a dummy baseline model predicting by class priors to demonstrate the substantial gain from the engineered model.\n",
        "\n",
        "---\n",
        "\n",
        "### Why the Results are Promising and How They Were Improved:\n",
        "\n",
        "- **Fast initial results** came from straightforward feature engineering and well-established models (XGBoost, LightGBM) known for their strong performance on tabular data.\n",
        "\n",
        "- **Drastic improvements** were driven by:  \n",
        "  - Careful **feature engineering** to extract meaningful signals.  \n",
        "  - Use of **target encoding** and thoughtful preprocessing reducing noise and handling different feature types.  \n",
        "  - Applying **SMOTE** ensured better learning on minority class examples.  \n",
        "  - **Hyperparameter tuning** extensively explored model configurations, significantly improving precision-recall metrics.  \n",
        "  - **Ensembling** combined strengths of two models, boosting overall accuracy and stability.  \n",
        "  - **Threshold optimization** enabled better alignment of model predictions with real-world business priorities.\n",
        "\n",
        "- The final model shows **high average precision (0.894)**, indicating strong ability to distinguish returning vs. non-returning players, and balanced precision/recall metrics confirming reliable and actionable predictions.\n",
        "\n",
        "---\n",
        "\n",
        "This systematic approach combining domain-informed feature creation, robust preprocessing, balanced training, powerful models, and thorough evaluation is key to achieving these solid results.\n"
      ],
      "metadata": {
        "id": "oPXtQync38Y_"
      }
    },
    {
      "cell_type": "code",
      "source": [
        "import joblib\n",
        "from sklearn.pipeline import Pipeline\n",
        "\n",
        "# Combine preprocessing and model into one pipeline\n",
        "full_pipeline = Pipeline([\n",
        "    ('preprocessing', preprocessor),\n",
        "    ('model', best_model)\n",
        "])\n",
        "\n",
        "# Save to drive\n",
        "joblib.dump(full_pipeline, '/content/drive/MyDrive/datasets/futsal/xgb_full_pipeline.joblib')\n"
      ],
      "metadata": {
        "colab": {
          "base_uri": "https://localhost:8080/"
        },
        "id": "SJuSLzd14VW3",
        "outputId": "5f8cf8f9-4e88-488f-a12a-bc37f6f2af8e"
      },
      "execution_count": 153,
      "outputs": [
        {
          "output_type": "execute_result",
          "data": {
            "text/plain": [
              "['/content/drive/MyDrive/datasets/futsal/xgb_full_pipeline.joblib']"
            ]
          },
          "metadata": {},
          "execution_count": 153
        }
      ]
    }
  ]
}